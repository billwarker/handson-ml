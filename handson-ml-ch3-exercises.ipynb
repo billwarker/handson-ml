{
 "cells": [
  {
   "cell_type": "markdown",
   "metadata": {},
   "source": [
    "## Exercises"
   ]
  },
  {
   "cell_type": "markdown",
   "metadata": {},
   "source": [
    "### 1. Build a MNIST Classifier that achieves over 97% accuracy on the test set"
   ]
  },
  {
   "cell_type": "markdown",
   "metadata": {},
   "source": [
    "Step 1 is just assess baseline performance of the suggested KNeighbors classifier"
   ]
  },
  {
   "cell_type": "code",
   "execution_count": 5,
   "metadata": {},
   "outputs": [],
   "source": [
    "from sklearn.datasets import fetch_openml"
   ]
  },
  {
   "cell_type": "code",
   "execution_count": 6,
   "metadata": {},
   "outputs": [],
   "source": [
    "mnist = fetch_openml('mnist_784', version=1)"
   ]
  },
  {
   "cell_type": "code",
   "execution_count": 46,
   "metadata": {},
   "outputs": [],
   "source": [
    "X, y = mnist['data'], mnist['target']"
   ]
  },
  {
   "cell_type": "code",
   "execution_count": 75,
   "metadata": {},
   "outputs": [],
   "source": [
    "X_train, X_test, y_train, y_test = X[:60000], X[60000:], y[:60000], y[60000:]"
   ]
  },
  {
   "cell_type": "code",
   "execution_count": 5,
   "metadata": {},
   "outputs": [],
   "source": [
    "from sklearn.preprocessing import StandardScaler"
   ]
  },
  {
   "cell_type": "code",
   "execution_count": 6,
   "metadata": {},
   "outputs": [],
   "source": [
    "std_scaler = StandardScaler()"
   ]
  },
  {
   "cell_type": "code",
   "execution_count": 7,
   "metadata": {},
   "outputs": [],
   "source": [
    "X_train_scaled = std_scaler.fit_transform(X_train)"
   ]
  },
  {
   "cell_type": "code",
   "execution_count": 8,
   "metadata": {},
   "outputs": [],
   "source": [
    "from sklearn.model_selection import cross_val_score\n",
    "from sklearn.neighbors import KNeighborsClassifier"
   ]
  },
  {
   "cell_type": "code",
   "execution_count": 9,
   "metadata": {},
   "outputs": [
    {
     "data": {
      "text/plain": [
       "KNeighborsClassifier()"
      ]
     },
     "execution_count": 9,
     "metadata": {},
     "output_type": "execute_result"
    }
   ],
   "source": [
    "knn_clf = KNeighborsClassifier()\n",
    "knn_clf"
   ]
  },
  {
   "cell_type": "code",
   "execution_count": 10,
   "metadata": {},
   "outputs": [],
   "source": [
    "# cross_val_score(knn_clf, X_train_scaled, y_train, cv=3,\n",
    "#                 scoring='accuracy', verbose=2, n_jobs=-1)"
   ]
  },
  {
   "cell_type": "markdown",
   "metadata": {},
   "source": [
    "Tune KNN by adjusting number of neighbours"
   ]
  },
  {
   "cell_type": "code",
   "execution_count": 11,
   "metadata": {},
   "outputs": [],
   "source": [
    "from sklearn.model_selection import GridSearchCV"
   ]
  },
  {
   "cell_type": "markdown",
   "metadata": {},
   "source": [
    "- Note: do not use large values for K"
   ]
  },
  {
   "cell_type": "code",
   "execution_count": 12,
   "metadata": {},
   "outputs": [],
   "source": [
    "knn_param_grid = {'n_neighbors': [3, 4, 5],\n",
    "                  'weights': ['uniform', 'distance']}"
   ]
  },
  {
   "cell_type": "code",
   "execution_count": 13,
   "metadata": {},
   "outputs": [],
   "source": [
    "# knn_grid_search = GridSearchCV(knn_clf, knn_param_grid,\n",
    "#                                scoring='accuracy',\n",
    "#                                return_train_score=True,\n",
    "#                                cv=3, n_jobs=4, verbose=3)"
   ]
  },
  {
   "cell_type": "code",
   "execution_count": 14,
   "metadata": {},
   "outputs": [],
   "source": [
    "# knn_grid_search"
   ]
  },
  {
   "cell_type": "code",
   "execution_count": 15,
   "metadata": {},
   "outputs": [],
   "source": [
    "# knn_grid_search.fit(X_train_scaled, y_train)"
   ]
  },
  {
   "cell_type": "code",
   "execution_count": 16,
   "metadata": {},
   "outputs": [],
   "source": [
    "# knn_grid_search.best_params_"
   ]
  },
  {
   "cell_type": "code",
   "execution_count": 95,
   "metadata": {},
   "outputs": [],
   "source": [
    "import pickle"
   ]
  },
  {
   "cell_type": "code",
   "execution_count": 96,
   "metadata": {},
   "outputs": [],
   "source": [
    "# pickle.dump(knn_grid_search, open( \"knn_grid_search.p\", \"wb\" ))"
   ]
  },
  {
   "cell_type": "code",
   "execution_count": 97,
   "metadata": {},
   "outputs": [],
   "source": [
    "knn_grid_search = pickle.load(open(\"knn_grid_search.p\", \"rb\" ))"
   ]
  },
  {
   "cell_type": "code",
   "execution_count": 98,
   "metadata": {},
   "outputs": [
    {
     "data": {
      "text/plain": [
       "KNeighborsClassifier(n_neighbors=4, weights='distance')"
      ]
     },
     "execution_count": 98,
     "metadata": {},
     "output_type": "execute_result"
    }
   ],
   "source": [
    "knn_grid_search.best_estimator_"
   ]
  },
  {
   "cell_type": "code",
   "execution_count": 21,
   "metadata": {},
   "outputs": [
    {
     "data": {
      "text/plain": [
       "0.9437666666666668"
      ]
     },
     "execution_count": 21,
     "metadata": {},
     "output_type": "execute_result"
    }
   ],
   "source": [
    "knn_grid_search.best_score_"
   ]
  },
  {
   "cell_type": "code",
   "execution_count": 22,
   "metadata": {},
   "outputs": [],
   "source": [
    "from sklearn.metrics import accuracy_score"
   ]
  },
  {
   "cell_type": "code",
   "execution_count": 23,
   "metadata": {},
   "outputs": [],
   "source": [
    "X_test_scaled = std_scaler.transform(X_test)"
   ]
  },
  {
   "cell_type": "code",
   "execution_count": null,
   "metadata": {},
   "outputs": [],
   "source": [
    "y_pred = knn_grid_search.predict(X_test_scaled)"
   ]
  },
  {
   "cell_type": "code",
   "execution_count": 27,
   "metadata": {},
   "outputs": [
    {
     "data": {
      "text/plain": [
       "0.9489"
      ]
     },
     "execution_count": 27,
     "metadata": {},
     "output_type": "execute_result"
    }
   ],
   "source": [
    "accuracy_score(y_test, y_pred)"
   ]
  },
  {
   "cell_type": "markdown",
   "metadata": {},
   "source": [
    "Note: KNN seems to perform worse on scaled features than unscaled - perhaps with unstructured data like MNIST it makes sense to just keep the raw features."
   ]
  },
  {
   "cell_type": "markdown",
   "metadata": {},
   "source": [
    "### 2. Write a function that can shift a MNIST image in any direction (up, down, left, right). Make four shifted copies (one per direction) and add them to the training set. Retrain your best classifier on them and see performance improve "
   ]
  },
  {
   "cell_type": "code",
   "execution_count": 1,
   "metadata": {},
   "outputs": [],
   "source": [
    "from sklearn.datasets import fetch_openml"
   ]
  },
  {
   "cell_type": "code",
   "execution_count": 2,
   "metadata": {},
   "outputs": [],
   "source": [
    "mnist = fetch_openml('mnist_784', version=1)"
   ]
  },
  {
   "cell_type": "code",
   "execution_count": 3,
   "metadata": {},
   "outputs": [],
   "source": [
    "X, y = mnist['data'], mnist['target']"
   ]
  },
  {
   "cell_type": "code",
   "execution_count": 4,
   "metadata": {},
   "outputs": [],
   "source": [
    "X_train, X_test, y_train, y_test = X[:60000], X[60000:], y[:60000], y[60000:]"
   ]
  },
  {
   "cell_type": "code",
   "execution_count": 5,
   "metadata": {},
   "outputs": [],
   "source": [
    "from scipy.ndimage.interpolation import shift\n",
    "import matplotlib as mpl\n",
    "import matplotlib.pyplot as plt\n",
    "import numpy as np"
   ]
  },
  {
   "cell_type": "code",
   "execution_count": 6,
   "metadata": {},
   "outputs": [],
   "source": [
    "some_digit = X_train[np.random.randint(len(X_train))]"
   ]
  },
  {
   "cell_type": "code",
   "execution_count": 7,
   "metadata": {},
   "outputs": [
    {
     "data": {
      "text/plain": [
       "(784,)"
      ]
     },
     "execution_count": 7,
     "metadata": {},
     "output_type": "execute_result"
    }
   ],
   "source": [
    "some_digit.shape"
   ]
  },
  {
   "cell_type": "code",
   "execution_count": 8,
   "metadata": {},
   "outputs": [],
   "source": [
    "some_digit_image = some_digit.reshape(28,28)"
   ]
  },
  {
   "cell_type": "code",
   "execution_count": 9,
   "metadata": {},
   "outputs": [
    {
     "data": {
      "image/png": "[encoded data removed]",
      "text/plain": [
       "<Figure size 432x288 with 1 Axes>"
      ]
     },
     "metadata": {
      "needs_background": "light"
     },
     "output_type": "display_data"
    }
   ],
   "source": [
    "plt.imshow(some_digit_image, cmap='binary')\n",
    "plt.axis('off')\n",
    "plt.show()"
   ]
  },
  {
   "cell_type": "code",
   "execution_count": 10,
   "metadata": {},
   "outputs": [],
   "source": [
    "# test shifting left\n",
    "some_digit_image_left = shift(some_digit_image, (0,-1), cval=0)"
   ]
  },
  {
   "cell_type": "code",
   "execution_count": 11,
   "metadata": {},
   "outputs": [
    {
     "data": {
      "image/png": "[encoded data removed]",
      "text/plain": [
       "<Figure size 432x288 with 1 Axes>"
      ]
     },
     "metadata": {
      "needs_background": "light"
     },
     "output_type": "display_data"
    }
   ],
   "source": [
    "plt.imshow(some_digit_image_left, cmap='binary')\n",
    "plt.axis('off')\n",
    "plt.show()"
   ]
  },
  {
   "cell_type": "code",
   "execution_count": 12,
   "metadata": {},
   "outputs": [],
   "source": [
    "def shift_digit(digit, shift_vals):\n",
    "    digit_img = digit.reshape(28,28)\n",
    "    digit_shifted = shift(digit_img, shift_vals, cval=0)\n",
    "    return digit_shifted.reshape(-1,)"
   ]
  },
  {
   "cell_type": "code",
   "execution_count": 13,
   "metadata": {},
   "outputs": [
    {
     "data": {
      "image/png": "[encoded data removed]",
      "text/plain": [
       "<Figure size 576x288 with 4 Axes>"
      ]
     },
     "metadata": {
      "needs_background": "light"
     },
     "output_type": "display_data"
    }
   ],
   "source": [
    "shift_directions = [(1,0), (-1,0), (0,1), (0,-1)]\n",
    "\n",
    "plt.figure(figsize=(8,4))\n",
    "for i in range(len(shift_directions)):\n",
    "    subplot_num = int(f\"1{len(shift_directions)}{i+1}\")\n",
    "    plt.subplot(subplot_num)\n",
    "    shifted_img = shift_digit(some_digit, shift_directions[i]).reshape(28,28)\n",
    "    plt.imshow(shifted_img, cmap='binary')\n",
    "    plt.axis('off')\n"
   ]
  },
  {
   "cell_type": "code",
   "execution_count": 14,
   "metadata": {},
   "outputs": [
    {
     "data": {
      "text/plain": [
       "(60000, 784)"
      ]
     },
     "execution_count": 14,
     "metadata": {},
     "output_type": "execute_result"
    }
   ],
   "source": [
    "X_train.shape"
   ]
  },
  {
   "cell_type": "code",
   "execution_count": 15,
   "metadata": {},
   "outputs": [],
   "source": [
    "X_train_augmented = [digit for digit in X_train]\n",
    "y_train_augmented = [label for label in y_train]"
   ]
  },
  {
   "cell_type": "code",
   "execution_count": 16,
   "metadata": {},
   "outputs": [
    {
     "name": "stdout",
     "output_type": "stream",
     "text": [
      "processed 0 digits\n",
      "processed 10000 digits\n",
      "processed 20000 digits\n",
      "processed 30000 digits\n",
      "processed 40000 digits\n",
      "processed 50000 digits\n"
     ]
    }
   ],
   "source": [
    "for i in range(len(X_train)):\n",
    "    digit = X_train_augmented[i]\n",
    "    target_class = y_train_augmented[i]\n",
    "    for direction in shift_directions:\n",
    "        shifted_digit = shift_digit(digit, direction)\n",
    "        X_train_augmented.append(shifted_digit)\n",
    "        y_train_augmented.append(target_class)\n",
    "    if i % 10000 == 0:\n",
    "        print(f'processed {i} digits')"
   ]
  },
  {
   "cell_type": "code",
   "execution_count": 17,
   "metadata": {},
   "outputs": [],
   "source": [
    "X_train_augmented = np.array(X_train_augmented)\n",
    "y_train_augmented = np.array(y_train_augmented)"
   ]
  },
  {
   "cell_type": "code",
   "execution_count": 18,
   "metadata": {},
   "outputs": [
    {
     "data": {
      "text/plain": [
       "(300000, 784)"
      ]
     },
     "execution_count": 18,
     "metadata": {},
     "output_type": "execute_result"
    }
   ],
   "source": [
    "X_train_augmented.shape"
   ]
  },
  {
   "cell_type": "code",
   "execution_count": 19,
   "metadata": {},
   "outputs": [
    {
     "data": {
      "text/plain": [
       "(300000,)"
      ]
     },
     "execution_count": 19,
     "metadata": {},
     "output_type": "execute_result"
    }
   ],
   "source": [
    "y_train_augmented.shape"
   ]
  },
  {
   "cell_type": "code",
   "execution_count": 23,
   "metadata": {},
   "outputs": [],
   "source": [
    "# import pickle"
   ]
  },
  {
   "cell_type": "code",
   "execution_count": 24,
   "metadata": {},
   "outputs": [],
   "source": [
    "# knn_grid_search = pickle.load(open(\"knn_grid_search.p\", \"rb\" ))\n",
    "# best_knn_clf = knn_grid_search.best_estimator_"
   ]
  },
  {
   "cell_type": "code",
   "execution_count": 25,
   "metadata": {},
   "outputs": [],
   "source": [
    "from sklearn.neighbors import KNeighborsClassifier"
   ]
  },
  {
   "cell_type": "code",
   "execution_count": 26,
   "metadata": {},
   "outputs": [
    {
     "data": {
      "text/plain": [
       "KNeighborsClassifier(algorithm='auto', leaf_size=30, metric='minkowski',\n",
       "                     metric_params=None, n_jobs=None, n_neighbors=4, p=2,\n",
       "                     weights='distance')"
      ]
     },
     "execution_count": 26,
     "metadata": {},
     "output_type": "execute_result"
    }
   ],
   "source": [
    "best_knn_clf = KNeighborsClassifier(n_neighbors=4, weights='distance')\n",
    "best_knn_clf"
   ]
  },
  {
   "cell_type": "code",
   "execution_count": 27,
   "metadata": {},
   "outputs": [
    {
     "data": {
      "text/plain": [
       "KNeighborsClassifier(algorithm='auto', leaf_size=30, metric='minkowski',\n",
       "                     metric_params=None, n_jobs=None, n_neighbors=4, p=2,\n",
       "                     weights='distance')"
      ]
     },
     "execution_count": 27,
     "metadata": {},
     "output_type": "execute_result"
    }
   ],
   "source": [
    "best_knn_clf.fit(X_train_augmented, y_train_augmented)"
   ]
  },
  {
   "cell_type": "code",
   "execution_count": 28,
   "metadata": {},
   "outputs": [],
   "source": [
    "y_pred_knn_best = best_knn_clf.predict(X_test)"
   ]
  },
  {
   "cell_type": "code",
   "execution_count": 32,
   "metadata": {},
   "outputs": [],
   "source": [
    "from sklearn.metrics import accuracy_score"
   ]
  },
  {
   "cell_type": "code",
   "execution_count": 33,
   "metadata": {},
   "outputs": [
    {
     "data": {
      "text/plain": [
       "0.9763"
      ]
     },
     "execution_count": 33,
     "metadata": {},
     "output_type": "execute_result"
    }
   ],
   "source": [
    "accuracy_score(y_test, y_pred_knn_best)"
   ]
  },
  {
   "cell_type": "markdown",
   "metadata": {},
   "source": [
    "## Build a Spam Classifier"
   ]
  },
  {
   "cell_type": "markdown",
   "metadata": {},
   "source": [
    "### Download and load the Email Data"
   ]
  },
  {
   "cell_type": "code",
   "execution_count": 2,
   "metadata": {},
   "outputs": [],
   "source": [
    "import requests\n",
    "from bs4 import BeautifulSoup\n",
    "import os\n",
    "import tarfile"
   ]
  },
  {
   "cell_type": "code",
   "execution_count": 3,
   "metadata": {},
   "outputs": [],
   "source": [
    "corpus_url = 'https://spamassassin.apache.org/old/publiccorpus/'\n",
    "r = requests.get(corpus_url)"
   ]
  },
  {
   "cell_type": "code",
   "execution_count": 4,
   "metadata": {},
   "outputs": [],
   "source": [
    "soup = BeautifulSoup(r.text)"
   ]
  },
  {
   "cell_type": "code",
   "execution_count": 5,
   "metadata": {},
   "outputs": [
    {
     "data": {
      "text/plain": [
       "'20021010_easy_ham.tar.bz2'"
      ]
     },
     "execution_count": 5,
     "metadata": {},
     "output_type": "execute_result"
    }
   ],
   "source": [
    "soup.find_all(\"a\")[5].text"
   ]
  },
  {
   "cell_type": "code",
   "execution_count": 6,
   "metadata": {},
   "outputs": [],
   "source": [
    "def download_corpus_files(target_dir='email_corpus'):\n",
    "    corpus_url = 'https://spamassassin.apache.org/old/publiccorpus/'\n",
    "    r = requests.get(corpus_url)\n",
    "    soup = BeautifulSoup(r.text)\n",
    "    \n",
    "    os.makedirs(target_dir, exist_ok=True)\n",
    "    \n",
    "    for link in soup.find_all('a'):\n",
    "        if link.text.endswith('.tar.bz2'):\n",
    "            download_url = os.path.join(corpus_url, link.text)\n",
    "            \n",
    "            with requests.get(download_url, stream=True) as raw:\n",
    "                bz2_path = os.path.join(target_dir, link.text)\n",
    "                \n",
    "                with open(bz2_path, 'wb') as file:\n",
    "                    for chunk in raw.iter_content(1024**3):\n",
    "                        file.write(chunk)\n",
    "                        \n",
    "            tar_file = tarfile.open(bz2_path, \"r:bz2\")\n",
    "            tar_file.extractall(target_dir)\n",
    "            tar_file.close()\n",
    "            os.remove(bz2_path)             "
   ]
  },
  {
   "cell_type": "code",
   "execution_count": 7,
   "metadata": {},
   "outputs": [],
   "source": [
    "download_corpus_files()"
   ]
  },
  {
   "cell_type": "code",
   "execution_count": 8,
   "metadata": {},
   "outputs": [],
   "source": [
    "import numpy as np\n",
    "import shutil"
   ]
  },
  {
   "cell_type": "code",
   "execution_count": 9,
   "metadata": {},
   "outputs": [],
   "source": [
    "def create_train_test_datasets(corpus='email_corpus', train_size=0.8, seed=42):\n",
    "    np.random.seed(seed)\n",
    "    \n",
    "    train_dir = os.path.join(corpus, \"train\")\n",
    "    test_dir = os.path.join(corpus, \"test\")\n",
    "    os.makedirs(train_dir, exist_ok=True)\n",
    "    os.makedirs(test_dir, exist_ok=True)\n",
    "    \n",
    "    email_dirs = [dir_ for dir_ in os.listdir(corpus) if \"am\" in dir_]\n",
    "    \n",
    "    target_counts = {\"spam\": 0, \"ham\": 0}\n",
    "    \n",
    "    for dir_ in email_dirs:\n",
    "        if \"spam\" in dir_: target = \"spam\"\n",
    "        else: target = \"ham\"\n",
    "        email_dir = os.path.join(corpus, dir_)\n",
    "        emails = os.listdir(email_dir)\n",
    "        emails.remove(\"cmds\")\n",
    "        emails_shuffled_ix = np.random.randint(0, len(emails),\n",
    "                                               size=(len(emails)))\n",
    "        \n",
    "        train_ix = emails_shuffled_ix[:(int(len(emails)*train_size))]\n",
    "        test_ix = emails_shuffled_ix[(int(len(emails)*train_size)):]\n",
    "        \n",
    "        for ix in train_ix:\n",
    "            src_file = os.path.join(email_dir, emails[ix])\n",
    "            dest_file = target + str(target_counts[target])\n",
    "            shutil.copy(src_file, os.path.join(train_dir, dest_file))\n",
    "            target_counts[target] += 1\n",
    "            \n",
    "        for ix in test_ix:\n",
    "            src_file = os.path.join(email_dir, emails[ix])\n",
    "            dest_file = target + str(target_counts[target])\n",
    "            shutil.copy(src_file, os.path.join(test_dir, dest_file))\n",
    "            target_counts[target] += 1"
   ]
  },
  {
   "cell_type": "code",
   "execution_count": 10,
   "metadata": {},
   "outputs": [],
   "source": [
    "create_train_test_datasets()"
   ]
  },
  {
   "cell_type": "code",
   "execution_count": 11,
   "metadata": {},
   "outputs": [],
   "source": [
    "import re"
   ]
  },
  {
   "cell_type": "code",
   "execution_count": 12,
   "metadata": {},
   "outputs": [],
   "source": [
    "def load_train_test_datasets(train_dir=\"email_corpus/train\", test_dir=\"email_corpus/test\"):\n",
    "    X_train = []\n",
    "    X_test = []\n",
    "    y_train = []\n",
    "    y_test = []\n",
    "    \n",
    "    for file in os.listdir(train_dir):\n",
    "        \n",
    "        with open(os.path.join(train_dir, file), 'rb') as data:\n",
    "            try:\n",
    "                target = re.search('(spam|ham).*', file).group(1)\n",
    "                msg = data.read().decode('utf-8')\n",
    "                \n",
    "                # check for duplicate file - if dup don't add\n",
    "                if msg not in X_train:\n",
    "                    X_train.append(msg)\n",
    "                    y_train.append(target)\n",
    "                    \n",
    "            except UnicodeDecodeError:\n",
    "                pass\n",
    "\n",
    "    for file in os.listdir(test_dir):\n",
    "        \n",
    "        with open(os.path.join(test_dir, file), 'rb') as data:\n",
    "            try:\n",
    "                target = re.search('(spam|ham).*', file).group(1)\n",
    "                msg = data.read().decode('utf-8')\n",
    "                \n",
    "                # check for duplicate file - if dup don't add\n",
    "                if msg not in X_test:\n",
    "                    X_test.append(msg)\n",
    "                    y_test.append(target)\n",
    "                    \n",
    "            except UnicodeDecodeError:\n",
    "                pass\n",
    "    \n",
    "    X_train = np.array(X_train)\n",
    "    X_test = np.array(X_test)\n",
    "    y_train = np.array(y_train)\n",
    "    y_test = np.array(y_test)\n",
    "    \n",
    "    return X_train, X_test, y_train, y_test"
   ]
  },
  {
   "cell_type": "code",
   "execution_count": 13,
   "metadata": {},
   "outputs": [],
   "source": [
    "X_train, X_test, y_train, y_test = load_train_test_datasets()"
   ]
  },
  {
   "cell_type": "markdown",
   "metadata": {},
   "source": [
    "### Check out some Examples"
   ]
  },
  {
   "cell_type": "code",
   "execution_count": 14,
   "metadata": {
    "scrolled": false
   },
   "outputs": [
    {
     "name": "stdout",
     "output_type": "stream",
     "text": [
      "From webmaster2fg7@address.com  Mon Jul 29 11:21:28 2002\n",
      "Return-Path: <webmaster2fg7@address.com>\n",
      "Delivered-To: yyyy@localhost.netnoteinc.com\n",
      "Received: from localhost (localhost [127.0.0.1])\n",
      "\tby phobos.labs.netnoteinc.com (Postfix) with ESMTP id F4169440FA\n",
      "\tfor <jm@localhost>; Mon, 29 Jul 2002 06:20:54 -0400 (EDT)\n",
      "Received: from mandark.labs.netnoteinc.com [213.105.180.140]\n",
      "\tby localhost with POP3 (fetchmail-5.9.0)\n",
      "\tfor jm@localhost (single-drop); Mon, 29 Jul 2002 11:20:55 +0100 (IST)\n",
      "Received: from ntserver1.roomscapesinc.com ([66.152.208.34])\n",
      "\tby mandark.labs.netnoteinc.com (8.11.6/8.11.6) with ESMTP id g6RCOEp31273\n",
      "\tfor <jm@netnoteinc.com>; Sat, 27 Jul 2002 13:24:15 +0100\n",
      "Received: from postoffice.address.com (B2V4V9 [66.169.34.86]) by ntserver1.roomscapesinc.com with SMTP (Microsoft Exchange Internet Mail Service Version 5.5.2653.13)\n",
      "\tid PV0X1HWT; Sat, 27 Jul 2002 06:46:01 -0400\n",
      "Message-ID: <00002fe93c34$000073cd$0000672f@postoffice.address.com>\n",
      "To: <Undisclosed.Recipients@netnoteinc.com>\n",
      "From: webmaster2fg7@address.com\n",
      "Subject: Your Grant request.\n",
      "Date: Sat, 27 Jul 2002 06:58:05 -1600\n",
      "MIME-Version: 1.0\n",
      "Reply-To: webmaster2fg7@address.com\n",
      "Content-Type: text/html; charset=\"iso-8859-1\"\n",
      "Content-Transfer-Encoding: quoted-printable\n",
      "\n",
      "<html>\n",
      "\n",
      "\n",
      "<HEAD> \n",
      "<META charset=3DUTF-8></HEAD>\n",
      "<BODY background=3D\"\"><FONT color=3D#000000 face=3DArial>\n",
      "<TABLE border=3D1 borderColorDark=3D#e0e0e0 cellPadding=3D1 cellSpacing=3D=\n",
      "0 frame=3Dbox rules=3Dgroups \n",
      "style=3D\"BACKGROUND-COLOR:#e0e0e0; FONT-SIZE: x-small\" width=3D\"100%\">\n",
      "<TBODY>\n",
      "<TR>\n",
      "<TD bgColor=3D#e0e0e0 color=3D\"#000000\">\n",
      "<TR align=3Dleft bgColor=3D#e0e0e0 color=3D\"#000000\">\n",
      "<TR>\n",
      "<TD>\n",
      "</STYLE>\n",
      "\n",
      "<META content=3D\"MSHTML 5.50.4807.2300\" name=3DGENERATOR>\n",
      "<DIV align=3Dcenter>\n",
      "<TABLE bgColor=3D#0033ff cellPadding=3D0 cellSpacing=3D3 width=3D652>\n",
      "<TBODY>\n",
      "<TR>\n",
      "<TD>\n",
      "<TABLE bgColor=3D#71a5cc cellPadding=3D0 cellSpacing=3D0 width=3D646>\n",
      "<TBODY>\n",
      "<TR>\n",
      "<TD bgColor=3D#71a5cc></TD></TR>\n",
      "<TR>\n",
      "<TD align=3Dmiddle bgColor=3D#71a5cc><FONT color=3Dwhite face=3Darial,helv=\n",
      "etica><B>\n",
      "<font size=3D\"5\">\n",
      "<BR>Your application for the Grant is below. <BR> <BR>Remember, because of=\n",
      " the type of Grant this is,<BR> you will never need to repay!<BR></B>\n",
      "\n",
      "</FONT></TD></TR>\n",
      "<TR>\n",
      "<TD bgColor=3D#71a5cc><BR>\n",
      "<UL><FONT color=3Dwhite face=3Darial,helvetica>\n",
      "\n",
      "<font size=3D\"5\">\n",
      "<center><font color=3D\"red\">>>\n",
      "<font color=3D\"yellow\">\n",
      "Time is limited. <font color=3D\"red\"><<<br> <FONT color=3Dwhite face=3Dari=\n",
      "al,helvetica>\n",
      "<font size=3D\"4\">You must place your order by<font size=3D\"5\"><font color=3D=\n",
      "\"yellow\"> Midnight, Saturday July 27, 2002<font size=3D\"4\"> <br><FONT colo=\n",
      "r=3Dwhite face=3Darial,helvetica>\n",
      "in order to secure a place in these programs.<br><br><br><br>\n",
      "</center>\n",
      "\n",
      "\n",
      " Too many people can qualify for this program, so by limiting the initial =\n",
      "applicants<br>\n",
      " to the most serious,  sincere and honest individuals. It will ensure that=\n",
      " the <br>\n",
      "program money is used for beneficial, constructive uses. <br>\n",
      " Remember there is <b>no risk</b> on your part.<br>\n",
      "Also, each Grant is usually a <b>minimum of $10,000,</b> so this is a grea=\n",
      "t opportunity!</b><br><br>\n",
      "<center>\n",
      "<a href=3D\"http://www.freehostchina.com/grant/web2pleasure/index.html\">\n",
      "SEE IF YOU ARE ELIGIBLE FOR A LARGER GRANT!</a><br><br></center>\n",
      "\n",
      "<br> If you do not qualify for the Free Grant Program, <b>you lose nothing=\n",
      "!</b><br>\n",
      "But if you don't even apply, you lose EVERYTHING! <br>Remember,\n",
      " not everyone gets this opportunity, <br>\n",
      "and you get to be one of the first people to apply! <br>\n",
      "So your chances are so much higher!<br><br><br><br>\n",
      "\n",
      "<FONT SIZE=3D\"6\">\n",
      "<center>\n",
      "<a href=3D\"http://www.freehostchina.com/grant/web2pleasure/index.html\">\n",
      "APPLY NOW! <FONT SIZE=3D\"5\"><br>\n",
      "Deadline is almost here!</a><br><br></center>\n",
      "\n",
      "\n",
      "\n",
      "<br><br><br><br><br><br> \n",
      "\n",
      "<DIV align=3Dcenter></DIV></A></LI></UL>\n",
      "<DIV align=3Dcenter><BR><BR><BR><BR></DIV></TD></TR> \n",
      "</BODY> </HTML>\n",
      "\n",
      "\n",
      "\n",
      "\n"
     ]
    }
   ],
   "source": [
    "print(X_train[100])"
   ]
  },
  {
   "cell_type": "code",
   "execution_count": 15,
   "metadata": {
    "scrolled": true
   },
   "outputs": [
    {
     "data": {
      "text/plain": [
       "'spam'"
      ]
     },
     "execution_count": 15,
     "metadata": {},
     "output_type": "execute_result"
    }
   ],
   "source": [
    "y_train[100]"
   ]
  },
  {
   "cell_type": "code",
   "execution_count": 16,
   "metadata": {
    "scrolled": false
   },
   "outputs": [
    {
     "name": "stdout",
     "output_type": "stream",
     "text": [
      "From fork-admin@xent.com  Fri Aug 23 11:08:55 2002\n",
      "Return-Path: <fork-admin@xent.com>\n",
      "Delivered-To: yyyy@localhost.netnoteinc.com\n",
      "Received: from localhost (localhost [127.0.0.1])\n",
      "\tby phobos.labs.netnoteinc.com (Postfix) with ESMTP id D741B47C6F\n",
      "\tfor <jm@localhost>; Fri, 23 Aug 2002 06:06:55 -0400 (EDT)\n",
      "Received: from phobos [127.0.0.1]\n",
      "\tby localhost with IMAP (fetchmail-5.9.0)\n",
      "\tfor jm@localhost (single-drop); Fri, 23 Aug 2002 11:06:55 +0100 (IST)\n",
      "Received: from xent.com ([64.161.22.236]) by dogma.slashnull.org\n",
      "    (8.11.6/8.11.6) with ESMTP id g7N1jTZ04367 for <jm@jmason.org>;\n",
      "    Fri, 23 Aug 2002 02:45:29 +0100\n",
      "Received: from lair.xent.com (localhost [127.0.0.1]) by xent.com (Postfix)\n",
      "    with ESMTP id 6A11E2940F5; Thu, 22 Aug 2002 18:43:08 -0700 (PDT)\n",
      "Delivered-To: fork@example.com\n",
      "Received: from smtp03.mrf.mail.rcn.net (smtp03.mrf.mail.rcn.net\n",
      "    [207.172.4.62]) by xent.com (Postfix) with ESMTP id 2D0CE294099 for\n",
      "    <fork@xent.com>; Thu, 22 Aug 2002 18:42:41 -0700 (PDT)\n",
      "X-Info: This message was accepted for relay by smtp03.mrf.mail.rcn.net as\n",
      "    the sender used SMTP authentication\n",
      "X-Trace: UmFuZG9tSVZFFzJmsb6CFx8j2lnFk529F6pHVq8zxRebZ/rkY9nOITB+/+3fN03H5gv+GHxViF4=\n",
      "Received: from eb-174121.od.nih.gov ([156.40.174.121]\n",
      "    helo=TOSHIBA-L8QYR7M) by smtp03.mrf.mail.rcn.net with asmtp (Exim 3.35 #6)\n",
      "    id 17i3Uv-0007Lj-00 for fork@xent.com; Thu, 22 Aug 2002 21:44:25 -0400\n",
      "From: \"John Evdemon\" <jevdemon@acm.org>\n",
      "To: fork@example.com\n",
      "MIME-Version: 1.0\n",
      "Subject: Re: Entrepreneurs\n",
      "Message-Id: <3D655B37.2901.1DB12A@localhost>\n",
      "Priority: normal\n",
      "In-Reply-To: <20020823005705.D63AEC44E@argote.ch>\n",
      "X-Mailer: Pegasus Mail for Windows (v4.01)\n",
      "Content-Type: text/plain; charset=US-ASCII\n",
      "Content-Transfer-Encoding: 7BIT\n",
      "Content-Description: Mail message body\n",
      "Sender: fork-admin@xent.com\n",
      "Errors-To: fork-admin@xent.com\n",
      "X-Beenthere: fork@example.com\n",
      "X-Mailman-Version: 2.0.11\n",
      "Precedence: bulk\n",
      "List-Help: <mailto:fork-request@xent.com?subject=help>\n",
      "List-Post: <mailto:fork@example.com>\n",
      "List-Subscribe: <http://xent.com/mailman/listinfo/fork>, <mailto:fork-request@xent.com?subject=subscribe>\n",
      "List-Id: Friends of Rohit Khare <fork.xent.com>\n",
      "List-Unsubscribe: <http://xent.com/mailman/listinfo/fork>,\n",
      "    <mailto:fork-request@xent.com?subject=unsubscribe>\n",
      "List-Archive: <http://xent.com/pipermail/fork/>\n",
      "Date: Thu, 22 Aug 2002 21:44:23 -0400\n",
      "X-Pyzor: Reported 0 times.\n",
      "X-Spam-Status: No, hits=-6.5 required=7.0\n",
      "\ttests=EMAIL_ATTRIBUTION,FORGED_RCVD_TRAIL,FUDGE_MULTIHOP_RELAY,\n",
      "\t      IN_REP_TO,KNOWN_MAILING_LIST,RCVD_IN_MULTIHOP_DSBL,\n",
      "\t      RCVD_IN_UNCONFIRMED_DSBL,SPAM_PHRASE_00_01\n",
      "\tversion=2.40-cvs\n",
      "X-Spam-Level: \n",
      "\n",
      "On 23 Aug 2002 at 2:57, Robert Harley wrote:\n",
      "\n",
      "> It's an amusing anecdote, I don't know if it's true or not,\n",
      "> but certainly nothing here supports the authoritative\n",
      "> sounding conclusion \"Status: False\".\n",
      "\n",
      "I actually thought it was pretty funny and quite accurate.  Who cares if the spinmeisters are denying it?\n",
      "http://xent.com/mailman/listinfo/fork\n",
      "\n",
      "\n"
     ]
    }
   ],
   "source": [
    "print(X_train[200])"
   ]
  },
  {
   "cell_type": "code",
   "execution_count": 17,
   "metadata": {},
   "outputs": [
    {
     "name": "stdout",
     "output_type": "stream",
     "text": [
      "ham\n"
     ]
    }
   ],
   "source": [
    "print(y_train[200])"
   ]
  },
  {
   "cell_type": "code",
   "execution_count": 18,
   "metadata": {},
   "outputs": [
    {
     "name": "stdout",
     "output_type": "stream",
     "text": [
      "From rssfeeds@jmason.org  Tue Sep 24 10:47:41 2002\n",
      "Return-Path: <rssfeeds@spamassassin.taint.org>\n",
      "Delivered-To: yyyy@localhost.spamassassin.taint.org\n",
      "Received: from localhost (jalapeno [127.0.0.1])\n",
      "\tby jmason.org (Postfix) with ESMTP id 5932D16F16\n",
      "\tfor <jm@localhost>; Tue, 24 Sep 2002 10:47:41 +0100 (IST)\n",
      "Received: from jalapeno [127.0.0.1]\n",
      "\tby localhost with IMAP (fetchmail-5.9.0)\n",
      "\tfor jm@localhost (single-drop); Tue, 24 Sep 2002 10:47:41 +0100 (IST)\n",
      "Received: from dogma.slashnull.org (localhost [127.0.0.1]) by\n",
      "    dogma.slashnull.org (8.11.6/8.11.6) with ESMTP id g8O80dC26649 for\n",
      "    <jm@jmason.org>; Tue, 24 Sep 2002 09:00:39 +0100\n",
      "Message-Id: <200209240800.g8O80dC26649@dogma.slashnull.org>\n",
      "To: yyyy@spamassassin.taint.org\n",
      "From: boingboing <rssfeeds@spamassassin.taint.org>\n",
      "Subject: Warchalking FAQ\n",
      "Date: Tue, 24 Sep 2002 08:00:39 -0000\n",
      "Content-Type: text/plain; encoding=utf-8\n",
      "\n",
      "URL: http://boingboing.net/#85481344\n",
      "Date: Not supplied\n",
      "\n",
      "Aaron Swartz has written up a warchalking FAQ that addresses the shibboleths \n",
      "and paranoia about discovering, marking and using wireless connectivity. \n",
      "\n",
      "    Is that illegal? \n",
      "\n",
      "    Although I am not a lawyer, I don't think it's illegal to make chalk marks \n",
      "    on the sidewalk. I know a lot of hopscotch players who'd be worried if it \n",
      "    was... \n",
      "\n",
      "    Well, is it immoral? \n",
      "\n",
      "    Not at all! Warchalking is a helpful service to assist people in finding \n",
      "    something they need (an Internet connection).  \n",
      "\n",
      "Link[1] Discuss[2]\n",
      "\n",
      "[1] http://www.warchalking.org/story/2002/9/22/223831/236\n",
      "[2] http://www.quicktopic.com/boing/H/vsVYCTZE7hs\n",
      "\n",
      "\n",
      "\n"
     ]
    }
   ],
   "source": [
    "print(X_train[300])"
   ]
  },
  {
   "cell_type": "code",
   "execution_count": 19,
   "metadata": {},
   "outputs": [
    {
     "name": "stdout",
     "output_type": "stream",
     "text": [
      "ham\n"
     ]
    }
   ],
   "source": [
    "print(y_train[300])"
   ]
  },
  {
   "cell_type": "code",
   "execution_count": 20,
   "metadata": {
    "scrolled": false
   },
   "outputs": [
    {
     "name": "stdout",
     "output_type": "stream",
     "text": [
      "From walteribe@c4.com  Wed Jul  3 12:34:26 2002\n",
      "Return-Path: <walteribe@c4.com>\n",
      "Delivered-To: yyyy@localhost.labs.netnoteinc.com\n",
      "Received: from localhost (localhost [127.0.0.1])\n",
      "\tby phobos.labs.netnoteinc.com (Postfix on SuSE Linux 8.0 (i386)) with ESMTP id AED2614F8C1\n",
      "\tfor <jm@localhost>; Wed,  3 Jul 2002 12:31:07 +0100 (IST)\n",
      "Received: from dogma.slashnull.org [212.17.35.15]\n",
      "\tby localhost with IMAP (fetchmail-5.9.0)\n",
      "\tfor jm@localhost (single-drop); Wed, 03 Jul 2002 12:31:07 +0100 (IST)\n",
      "Received: from mail1.chek.com (homer.chek.com [208.197.227.7]) by\n",
      "    dogma.slashnull.org (8.11.6/8.11.6) with SMTP id g46Dve205900 for\n",
      "    <jm@jmason.org>; Mon, 6 May 2002 14:57:40 +0100\n",
      "Received: (qmail 9427 invoked from network); 6 May 2002 13:57:29 -0000\n",
      "Received: from whiskas.chek.com (208.197.227.138) by mailrelay1.chek.com\n",
      "    with SMTP; 6 May 2002 13:57:29 -0000\n",
      "Received: (qmail 24523 invoked by uid 99); 6 May 2002 13:57:28 -0000\n",
      "Date: 6 May 2002 13:57:28 -0000\n",
      "Message-Id: <20020506135728.24522.qmail@whiskas.chek.com>\n",
      "From: \"walter ibe\" <walteribe@c4.com>\n",
      "To: walteribe@c4.com\n",
      "X-Originating-Ip: [212.100.64.80]\n",
      "Subject: URGENT BUSINESS ASSISTANCE\n",
      "MIME-Version: 1.0\n",
      "X-Massmail: 1.0\n",
      "X-Massmail: precedence.bulk\n",
      "Content-Type: multipart/alternative; boundary=\"=====================_889472414==_\"\n",
      "\n",
      "\n",
      "--=====================_889472414==_\n",
      "Content-Type: text/plain\n",
      "Content-Transfer-Encoding: 8bit\n",
      "\n",
      "UNION BANK OF NIG LTD.\n",
      "35 MARINA,\n",
      "LAGOS ISLAND\n",
      "\n",
      "DEAR Sir,\n",
      "\n",
      "First, I must solicit your confidence in this transaction, this  is by virture of its nature as being utterly confidencial and top secret. though i know that a transaction of this magnitude will make any one apprehensive and worried, but i am assuring you that all will be well at the end of theday. we have decided to contact you due to the urgency of this transaction,let me start by introducing myself properly to you. I am the manager Bills and Exchange of Foreign Remittance department of Union Bank of NIgeria (U.B.N. Headquarters Lagos NIgeria) formally Union Bank of Switzerland (UBS-AG Zurich Switzerland). In accordance with Federal Government Policies on indiginalization Law on company and Allied matters of Jan 1977. I am writing you this letter to ask for your support and co-operation to carry out this transaction.We discovered an abandoned sum of US$20 million(twenty million US Dollars) in an account that belongs to one of our Foreign customer who died along side his entire family in November 1997 in a plane crash. Since this development,we have advertised for his next of kin or any close relation to come forward to claim this money, but nobody came to apply for the claim. To this effect,I and two other officials in my department, have decided to look for a trusted foreign partner who can stand in as the next of kin to the deceased and claim this money.We need a foreign partner to apply for the claim because of the fact that the customer was a foreigner and we don't want this money to go into the Banks Treasury as unclaimed fund. Every document to affect this process will emanate from my table and I will perfect every documentto be in accordance with the banking law and guidelines,\n",
      "So you have nothing to worry about.We have agreed that 20% of the money\n",
      "will be for you, 10%for expenses incurred on both sides, 10% will be\n",
      "donated to the charity organization while 60% will be for my colleagues\n",
      "and I.  If you are going to help me, indicate by replying this letter\n",
      "and putting in your BANK PARTICULARS, PRIVATE TELEPHONE AND FAX NUMBERS.\n",
      "\n",
      "I await your immediate reply to enable us start this transaction in earnest.\n",
      "Once I receive your reply, I will send you the Text of Application for\n",
      "immediate Application of Claim.\n",
      "\n",
      "Thanks for your anticipated assistance.\n",
      "\n",
      "Yours faithfully,\n",
      "\n",
      "DR.WALTER IBE\n",
      " \n",
      "\n",
      "--=====================_889472414==_\n",
      "Content-Type: text/html\n",
      "Content-Transfer-Encoding: 8bit\n",
      "\n",
      "<html>\n",
      "<body>\n",
      "<div align=\"left\"><font face=\"Arial, Helvetica, sans-serif\" size=\"2\">UNION BANK OF NIG LTD.\r",
      "<br />\n",
      "35 MARINA,\r",
      "<br />\n",
      "LAGOS ISLAND\r",
      "<br />\n",
      "\r",
      "<br />\n",
      "DEAR Sir,\r",
      "<br />\n",
      "\r",
      "<br />\n",
      "First, I must solicit your confidence in this transaction, this  is by virture of its nature as being utterly confidencial and top secret. though i know that a transaction of this magnitude will make any one apprehensive and worried, but i am assuring you that all will be well at the end of theday. we have decided to contact you due to the urgency of this transaction,let me start by introducing myself properly to you. I am the manager Bills and Exchange of Foreign Remittance department of Union Bank of NIgeria (U.B.N. Headquarters Lagos NIgeria) formally Union Bank of Switzerland (UBS-AG Zurich Switzerland). In accordance with Federal Government Policies on indiginalization Law on company and Allied matters of Jan 1977. I am writing you this letter to ask for your support and co-operation to carry out this transaction.We discovered an abandoned sum of US$20 million(twenty million US Dollars) in an account that belongs to one of our Foreign customer who died along side his entire family in November 1997 in a plane crash. Since this development,we have advertised for his next of kin or any close relation to come forward to claim this money, but nobody came to apply for the claim. To this effect,I and two other officials in my department, have decided to look for a trusted foreign partner who can stand in as the next of kin to the deceased and claim this money.We need a foreign partner to apply for the claim because of the fact that the customer was a foreigner and we don't want this money to go into the Banks Treasury as unclaimed fund. Every document to affect this process will emanate from my table and I will perfect every documentto be in accordance with the banking law and guidelines,\r",
      "<br />\n",
      "So you have nothing to worry about.We have agreed that 20% of the money\r",
      "<br />\n",
      "will be for you, 10%for expenses incurred on both sides, 10% will be\r",
      "<br />\n",
      "donated to the charity organization while 60% will be for my colleagues\r",
      "<br />\n",
      "and I.  If you are going to help me, indicate by replying this letter\r",
      "<br />\n",
      "and putting in your BANK PARTICULARS, PRIVATE TELEPHONE AND FAX NUMBERS.\r",
      "<br />\n",
      "\r",
      "<br />\n",
      "I await your immediate reply to enable us start this transaction in earnest.\r",
      "<br />\n",
      "Once I receive your reply, I will send you the Text of Application for\r",
      "<br />\n",
      "immediate Application of Claim.\r",
      "<br />\n",
      "\r",
      "<br />\n",
      "Thanks for your anticipated assistance.\r",
      "<br />\n",
      "\r",
      "<br />\n",
      "Yours faithfully,\r",
      "<br />\n",
      "\r",
      "<br />\n",
      "DR.WALTER IBE\r",
      "<br />\n",
      " </font></div></body></html><br><br><br>\n",
      "\n",
      "--=====================_889472414==_--\n",
      "\n",
      "\n",
      "\n"
     ]
    }
   ],
   "source": [
    "print(X_train[403])"
   ]
  },
  {
   "cell_type": "code",
   "execution_count": 21,
   "metadata": {},
   "outputs": [
    {
     "name": "stdout",
     "output_type": "stream",
     "text": [
      "spam\n"
     ]
    }
   ],
   "source": [
    "print(y_train[403])"
   ]
  },
  {
   "cell_type": "markdown",
   "metadata": {},
   "source": [
    "### Build the data preparation pipeline"
   ]
  },
  {
   "cell_type": "code",
   "execution_count": 22,
   "metadata": {},
   "outputs": [],
   "source": [
    "from sklearn.feature_extraction.text import CountVectorizer, TfidfTransformer\n",
    "from sklearn.pipeline import Pipeline, FeatureUnion\n",
    "from sklearn.base import BaseEstimator, TransformerMixin"
   ]
  },
  {
   "cell_type": "code",
   "execution_count": 23,
   "metadata": {},
   "outputs": [],
   "source": [
    "# get html tags corpus\n",
    "def get_html_tags_list():\n",
    "    html_tags_url = 'https://www.w3schools.com/tags/'\n",
    "    r = requests.get(html_tags_url)\n",
    "    soup = BeautifulSoup(r.text)\n",
    "\n",
    "    html_tags_list = []\n",
    "    for td in soup.find_all('td'):\n",
    "        tag = td.text\n",
    "        if re.match('^<.*>$', tag) is not None:\n",
    "            html_tags_list.append(tag)\n",
    "            close_tag = tag[0] + '/' + tag[1:]\n",
    "            html_tags_list.append(close_tag) # appending closing version of tag\n",
    "    \n",
    "    return html_tags_list"
   ]
  },
  {
   "cell_type": "code",
   "execution_count": 24,
   "metadata": {},
   "outputs": [],
   "source": [
    "html_tags_list = get_html_tags_list()"
   ]
  },
  {
   "cell_type": "code",
   "execution_count": 25,
   "metadata": {},
   "outputs": [],
   "source": [
    "def replace_newlines(text, sub=' '):\n",
    "    return text.replace('\\n', sub)"
   ]
  },
  {
   "cell_type": "code",
   "execution_count": 26,
   "metadata": {},
   "outputs": [],
   "source": [
    "class HtmlTagCounter(BaseEstimator, TransformerMixin):\n",
    "    def __init__(self, html_tags_list, binary=False):\n",
    "        self.binary = binary\n",
    "        self.html_tags_list = html_tags_list\n",
    "        self.feature_names = 'html_tags_count'\n",
    "        \n",
    "    def fit(self, X, y=None):\n",
    "        return self\n",
    "    \n",
    "    def _html_tags_count(self, X):\n",
    "        text = replace_newlines(X)\n",
    "        text = text.lower()\n",
    "        html_tags_count = 0\n",
    "\n",
    "        for tag in self.html_tags_list:\n",
    "            html_tags_count += text.count(tag)\n",
    "\n",
    "        if self.binary:\n",
    "            return 1 if html_tags_count > 0 else 0\n",
    "\n",
    "        return html_tags_count\n",
    "    \n",
    "    def get_feature_names(self):\n",
    "        return self.feature_names\n",
    "    \n",
    "    def transform(self, X, y=None):\n",
    "        vectorized_html_tags_count = np.vectorize(self._html_tags_count)\n",
    "        return np.c_[vectorized_html_tags_count(X)]"
   ]
  },
  {
   "cell_type": "code",
   "execution_count": 27,
   "metadata": {},
   "outputs": [],
   "source": [
    "class EmailPreprocessor(BaseEstimator, TransformerMixin):\n",
    "    \n",
    "    url_regex = '(https?:\\/\\/(?:www\\.|(?!www))[a-zA-Z0-9][a-zA-Z0-9-]+[a-zA-Z0-9]\\.[^\\s]{2,}|www\\.[a-zA-Z0-9][a-zA-Z0-9-]+[a-zA-Z0-9]\\.[^\\s]{2,}|https?:\\/\\/(?:www\\.|(?!www))[a-zA-Z0-9]+\\.[^\\s]{2,}|www\\.[a-zA-Z0-9]+\\.[^\\s]{2,})'\n",
    "    num_regex = '([0-9]+)'\n",
    "    html_regex = '(<\\s*[^>@]*>)+'\n",
    "    \n",
    "    def __init__(self, newline=True, lowercase=True, url=True, html=True, number=True):\n",
    "        self.newline = newline\n",
    "        self.lowercase = lowercase\n",
    "        self.url = url\n",
    "        self.number = number\n",
    "        self.html = html\n",
    "    \n",
    "    def fit(self, X, y=None):\n",
    "        return self\n",
    "    \n",
    "    def _preprocess(self, X):\n",
    "        X_processed = X\n",
    "        if self.newline:\n",
    "            X_processed = X_processed.replace('\\n', ' ')\n",
    "        if self.lowercase:\n",
    "            X_processed = X_processed.lower()\n",
    "        if self.url:\n",
    "            X_processed = re.sub(self.url_regex, 'URL', X_processed)\n",
    "        if self.html:\n",
    "            X_processed = re.sub(self.html_regex, 'HTML', X_processed)\n",
    "        if self.number:\n",
    "            X_processed = re.sub(self.num_regex, 'NUMBER', X_processed)\n",
    "        \n",
    "        return X_processed\n",
    "    \n",
    "    def transform(self, X, y=None):\n",
    "        vectorized_preprocess = np.vectorize(self._preprocess)\n",
    "        return vectorized_preprocess(X)\n",
    "            "
   ]
  },
  {
   "cell_type": "code",
   "execution_count": 28,
   "metadata": {},
   "outputs": [],
   "source": [
    "html_tag_counter = HtmlTagCounter(html_tags_list)"
   ]
  },
  {
   "cell_type": "code",
   "execution_count": 29,
   "metadata": {},
   "outputs": [],
   "source": [
    "X_train_tag_counts = html_tag_counter.transform(X_train)"
   ]
  },
  {
   "cell_type": "code",
   "execution_count": 30,
   "metadata": {},
   "outputs": [
    {
     "data": {
      "text/plain": [
       "array([  0,   0,   0,   0,   0,   0,   0, 144,   0,   0, 230,   0,   0,\n",
       "         0,   0,   0,   2,   0,   0,   0,   0,   0,   0,   0,   0,   0,\n",
       "        45,   0,   0,   0,   0,  88,   0,   0,   0,   0,   0,   0, 114,\n",
       "        77,   0,   0,   0,   0, 133,   0,   0,   0,  91,   0])"
      ]
     },
     "execution_count": 30,
     "metadata": {},
     "output_type": "execute_result"
    }
   ],
   "source": [
    "X_train_tag_counts.reshape(-1,)[:50]"
   ]
  },
  {
   "cell_type": "code",
   "execution_count": 31,
   "metadata": {},
   "outputs": [],
   "source": [
    "preprocessor = EmailPreprocessor()"
   ]
  },
  {
   "cell_type": "code",
   "execution_count": 32,
   "metadata": {},
   "outputs": [],
   "source": [
    "X_train_preprocessed = preprocessor.transform(X_train)"
   ]
  },
  {
   "cell_type": "code",
   "execution_count": 33,
   "metadata": {},
   "outputs": [
    {
     "name": "stdout",
     "output_type": "stream",
     "text": [
      "from owner-nolist-sgodaily*jm**netnoteinc*-com@smtpNUMBER.admanmail.com  tue sep NUMBER NUMBER:NUMBER:NUMBER NUMBER return-path: <owner-nolist-sgodaily*jm**netnoteinc*-com@smtpNUMBER.admanmail.com> delivered-to: zzzz@localhost.jmason.org received: from localhost (jalapeno [NUMBER.NUMBER.NUMBER.NUMBER]) \tby zzzzason.org (postfix) with esmtp id NUMBERbNUMBERfNUMBER \tfor <zzzz@localhost>; tue, NUMBER sep NUMBER NUMBER:NUMBER:NUMBER +NUMBER (ist) received: from jalapeno [NUMBER.NUMBER.NUMBER.NUMBER] \tby localhost with imap (fetchmail-NUMBER.NUMBER.NUMBER) \tfor zzzz@localhost (single-drop); tue, NUMBER sep NUMBER NUMBER:NUMBER:NUMBER +NUMBER (ist) received: from webnote.net (mail.webnote.net [NUMBER.NUMBER.NUMBER.NUMBER]) by     dogma.slashnull.org (NUMBER.NUMBER.NUMBER/NUMBER.NUMBER.NUMBER) with esmtp id gNUMBERogdNUMBERcNUMBER for     <zzzz@jmason.org>; tue, NUMBER sep NUMBER NUMBER:NUMBER:NUMBER +NUMBER received: from tipsmtpNUMBER.admanmail.com (tipsmtpNUMBER.theadmanager.com     [NUMBER.NUMBER.NUMBER.NUMBER] (may be forged)) by webnote.net (NUMBER.NUMBER.NUMBER/NUMBER.NUMBER.NUMBER) with esmtp     id raaNUMBER for <jm@netnoteinc.com>; tue, NUMBER sep NUMBER NUMBER:NUMBER:NUMBER +NUMBER message-id: <NUMBER.raaNUMBER@webnote.net> received: from tiputilNUMBER (tiputilNUMBER.corp.tiprelease.com) by     tipsmtpNUMBER.admanmail.com (lsmtp for windows nt vNUMBER.NUMBERb) with smtp id     <NUMBER.NUMBERcbbNUMBER@tipsmtpNUMBER.admanmail.com>; tue, NUMBER sep NUMBER NUMBER:NUMBER:NUMBER -NUMBER date: tue, NUMBER sep NUMBER NUMBER:NUMBER:NUMBER -NUMBER from: classic wines <greatoffers@sendgreatoffers.com> to: jm@netnoteinc.com subject: get a free bottle of wine & tasting kit x-info: NUMBER x-infoNUMBER: sgo mime-version: NUMBER.NUMBER content-type: text/html; charset=\"us-ascii\"  HTML  HTML HTMLclassic winesHTML HTML  HTML  HTML   HTML   HTML     HTML       HTML         HTML           HTML             HTML               HTML               HTML             HTML             HTML               HTML                 HTML                 HTML                 HTMLall of this can beHTML                 yours for onlyHTML                 $NUMBER.NUMBER*HTML                 HTML                   HTML                     HTML                     HTML                       HTML NUMBER bottles of premium wineHTML                   HTML                   HTML                     HTML                     HTML                       HTML NUMBER elegant wine glassesHTML                   HTML                   HTML                     HTML                     HTML                       HTML capitano waiter's corkscrewHTML                   HTML                   HTML                     HTML                     HTML                       HTML marble bottle stopperHTML                   HTML                   HTML                     HTML                     HTML                       HTML delicious gourmet wine crackersHTML                   HTML                   HTML                     HTML                     HTML                       HTML member discounts on additional wine                       selectionsHTML                   HTML                   HTML                     HTML                     HTML                       HTML our cellar profile newsletterHTML                   HTML                 HTML                 HTMLtotal retail value of this special offer -                 $NUMBER.NUMBERHTML                 HTML                HTML               HTML               HTMLa                 special offer for the discriminatingHTML                 wine drinker.HTML               HTML   HTML               HTMLinHTMLdulge your love of adventure . discovery . and fine wine from the comfort of your home with our convenient program.HTML receive two expertly selected premium wines for               the price of one - only $NUMBER.NUMBER* - NUMBER% off the regular price - delivered to your door with our wine starter kit as a free gift.  starter kit includes, NUMBER elegant wine glasses, a capitano waiter's corkscrew, gourmet wine crackers and more!HTML               HTMLyou'll have your choice of two reds, two whites or one of each. one month you may have the pleasure of experiencing a wonderfully full-bodied cabernet sauvignon from california and a delicious chardonnay from australia. another month, you may get an exquisite chianti from italy and a fabulous sauvignon blanc from france. you'll savor a broad range of some of the world's most fascinating wine - right in your own home.HTML               HTMLyour satisfaction is NUMBER% guaranteed.HTML if you are not completely satisfied with the classic selections program, you can cancel at any time.               HTML there is no minimum to buy and no obligation for further purchases or deliveries.               HTML so, uncork your own wine adventure and explore the world's finest vineyards with classic selections! HTML               HTML             HTML             HTML           HTML           HTML             HTML HTML           HTML           HTML             HTML               HTML                 HTML                 HTML*plus shipping and tax from $NUMBER.NUMBER - $NUMBER.NUMBER depending on destination state.HTML                 HTML                 we accept orders from adults at least NUMBER or older only. all shipments are delivered by ups or private courier and the signature of an adult is required at the time of delivery. offer cannot be combined with any other offer and is void where prohibited. this offer is only valid in the following states: az, ca, co, ct, fl, ia, id, il, in, mi, mo, nc, ne, nj, nm, ny, oh, or, tx, va, wa, wi. list of legal states subject to change.HTML                 due to legal restrictions in some states, alcohol can not be given away for free.  therefore, the promotion is NUMBER% off of the two bottles which equates to the same as one free bottle.HTML               HTML             HTML           HTML           HTML         HTML         HTML HTML     HTML   HTML HTML  HTML HTML HTML you are receiving this mailing because you are a member of sendgreatoffers.com and subscribed as:jm@netnoteinc.com to unsubscribe HTMLclick hereHTML (URL or reply to this email with remove in the subject line - you must also include the body of this message to be unsubscribed. any correspondence about the products/services should be directed to the company in the ad. %em%jm@netnoteinc.com%/em% HTML HTML HTML   \n"
     ]
    }
   ],
   "source": [
    "print(X_train_preprocessed[405])"
   ]
  },
  {
   "cell_type": "code",
   "execution_count": 34,
   "metadata": {},
   "outputs": [],
   "source": [
    "text_pipeline = Pipeline([\n",
    "    ('preprocess', EmailPreprocessor()),\n",
    "    ('vect', CountVectorizer()),\n",
    "    ('tfidf', TfidfTransformer())\n",
    "])\n",
    "\n",
    "html_tag_pipeline = Pipeline([\n",
    "    ('html_tag_counter', HtmlTagCounter(html_tags_list))\n",
    "])\n",
    "\n",
    "full_pipeline = FeatureUnion([\n",
    "    ('text', text_pipeline),\n",
    "    ('html_tag', html_tag_pipeline)\n",
    "])"
   ]
  },
  {
   "cell_type": "code",
   "execution_count": 35,
   "metadata": {},
   "outputs": [],
   "source": [
    "X_train_prepared = full_pipeline.fit_transform(X_train)"
   ]
  },
  {
   "cell_type": "code",
   "execution_count": 36,
   "metadata": {},
   "outputs": [],
   "source": [
    "# full_pipeline.get_feature_names()"
   ]
  },
  {
   "cell_type": "code",
   "execution_count": 37,
   "metadata": {},
   "outputs": [
    {
     "data": {
      "text/plain": [
       "<4612x82164 sparse matrix of type '<class 'numpy.float64'>'\n",
       "\twith 960597 stored elements in Compressed Sparse Row format>"
      ]
     },
     "execution_count": 37,
     "metadata": {},
     "output_type": "execute_result"
    }
   ],
   "source": [
    "X_train_prepared"
   ]
  },
  {
   "cell_type": "markdown",
   "metadata": {},
   "source": [
    "### Get shortlist of Models"
   ]
  },
  {
   "cell_type": "code",
   "execution_count": 38,
   "metadata": {},
   "outputs": [],
   "source": [
    "from sklearn.metrics import classification_report\n",
    "from sklearn.model_selection import cross_val_predict"
   ]
  },
  {
   "cell_type": "code",
   "execution_count": 39,
   "metadata": {},
   "outputs": [],
   "source": [
    "from sklearn.linear_model import LogisticRegression"
   ]
  },
  {
   "cell_type": "code",
   "execution_count": 40,
   "metadata": {
    "scrolled": false
   },
   "outputs": [
    {
     "name": "stderr",
     "output_type": "stream",
     "text": [
      "/Users/willbarker/anaconda3/lib/python3.7/site-packages/sklearn/linear_model/logistic.py:432: FutureWarning: Default solver will be changed to 'lbfgs' in 0.22. Specify a solver to silence this warning.\n",
      "  FutureWarning)\n"
     ]
    }
   ],
   "source": [
    "log_clf = LogisticRegression()\n",
    "y_pred = cross_val_predict(log_clf, X_train_prepared, y_train, cv=5)"
   ]
  },
  {
   "cell_type": "code",
   "execution_count": 41,
   "metadata": {},
   "outputs": [
    {
     "name": "stdout",
     "output_type": "stream",
     "text": [
      "              precision    recall  f1-score   support\n",
      "\n",
      "         ham       0.97      0.99      0.98      3489\n",
      "        spam       0.97      0.90      0.93      1123\n",
      "\n",
      "    accuracy                           0.97      4612\n",
      "   macro avg       0.97      0.95      0.96      4612\n",
      "weighted avg       0.97      0.97      0.97      4612\n",
      "\n"
     ]
    }
   ],
   "source": [
    "print(classification_report(y_train, y_pred))"
   ]
  },
  {
   "cell_type": "code",
   "execution_count": 42,
   "metadata": {},
   "outputs": [],
   "source": [
    "from sklearn.ensemble import RandomForestClassifier"
   ]
  },
  {
   "cell_type": "code",
   "execution_count": 43,
   "metadata": {},
   "outputs": [
    {
     "name": "stderr",
     "output_type": "stream",
     "text": [
      "/Users/willbarker/anaconda3/lib/python3.7/site-packages/sklearn/ensemble/forest.py:245: FutureWarning: The default value of n_estimators will change from 10 in version 0.20 to 100 in 0.22.\n",
      "  \"10 in version 0.20 to 100 in 0.22.\", FutureWarning)\n",
      "/Users/willbarker/anaconda3/lib/python3.7/site-packages/sklearn/ensemble/forest.py:245: FutureWarning: The default value of n_estimators will change from 10 in version 0.20 to 100 in 0.22.\n",
      "  \"10 in version 0.20 to 100 in 0.22.\", FutureWarning)\n",
      "/Users/willbarker/anaconda3/lib/python3.7/site-packages/sklearn/ensemble/forest.py:245: FutureWarning: The default value of n_estimators will change from 10 in version 0.20 to 100 in 0.22.\n",
      "  \"10 in version 0.20 to 100 in 0.22.\", FutureWarning)\n",
      "/Users/willbarker/anaconda3/lib/python3.7/site-packages/sklearn/ensemble/forest.py:245: FutureWarning: The default value of n_estimators will change from 10 in version 0.20 to 100 in 0.22.\n",
      "  \"10 in version 0.20 to 100 in 0.22.\", FutureWarning)\n",
      "/Users/willbarker/anaconda3/lib/python3.7/site-packages/sklearn/ensemble/forest.py:245: FutureWarning: The default value of n_estimators will change from 10 in version 0.20 to 100 in 0.22.\n",
      "  \"10 in version 0.20 to 100 in 0.22.\", FutureWarning)\n"
     ]
    }
   ],
   "source": [
    "forest_clf = RandomForestClassifier()\n",
    "y_pred = cross_val_predict(forest_clf, X_train_prepared, y_train, cv=5)"
   ]
  },
  {
   "cell_type": "code",
   "execution_count": 44,
   "metadata": {},
   "outputs": [
    {
     "name": "stdout",
     "output_type": "stream",
     "text": [
      "              precision    recall  f1-score   support\n",
      "\n",
      "         ham       0.98      1.00      0.99      3489\n",
      "        spam       0.99      0.92      0.95      1123\n",
      "\n",
      "    accuracy                           0.98      4612\n",
      "   macro avg       0.98      0.96      0.97      4612\n",
      "weighted avg       0.98      0.98      0.98      4612\n",
      "\n"
     ]
    }
   ],
   "source": [
    "print(classification_report(y_train, y_pred))"
   ]
  },
  {
   "cell_type": "code",
   "execution_count": 45,
   "metadata": {},
   "outputs": [],
   "source": [
    "from sklearn.neighbors import KNeighborsClassifier"
   ]
  },
  {
   "cell_type": "code",
   "execution_count": 46,
   "metadata": {},
   "outputs": [],
   "source": [
    "knn_clf = KNeighborsClassifier()\n",
    "y_pred = cross_val_predict(knn_clf, X_train_prepared, y_train, cv=5)"
   ]
  },
  {
   "cell_type": "code",
   "execution_count": 47,
   "metadata": {},
   "outputs": [
    {
     "name": "stdout",
     "output_type": "stream",
     "text": [
      "              precision    recall  f1-score   support\n",
      "\n",
      "         ham       0.93      0.98      0.95      3489\n",
      "        spam       0.92      0.76      0.83      1123\n",
      "\n",
      "    accuracy                           0.92      4612\n",
      "   macro avg       0.92      0.87      0.89      4612\n",
      "weighted avg       0.92      0.92      0.92      4612\n",
      "\n"
     ]
    }
   ],
   "source": [
    "print(classification_report(y_train, y_pred))"
   ]
  },
  {
   "cell_type": "markdown",
   "metadata": {},
   "source": [
    "### Tune Random Forest Classifier"
   ]
  },
  {
   "cell_type": "code",
   "execution_count": 48,
   "metadata": {},
   "outputs": [],
   "source": [
    "forest_clf_pipeline = Pipeline([\n",
    "    ('prep', full_pipeline),\n",
    "    ('clf', RandomForestClassifier())\n",
    "])"
   ]
  },
  {
   "cell_type": "code",
   "execution_count": 49,
   "metadata": {},
   "outputs": [],
   "source": [
    "from sklearn.model_selection import GridSearchCV"
   ]
  },
  {
   "cell_type": "code",
   "execution_count": 82,
   "metadata": {},
   "outputs": [],
   "source": [
    "param_grid = {\n",
    "    'prep__html_tag__html_tag_counter__binary': [True, False],\n",
    "    'prep__text__preprocess': ['passthrough',\n",
    "                               EmailPreprocessor(),\n",
    "                               EmailPreprocessor(html=False),\n",
    "                               EmailPreprocessor(url=False),\n",
    "                               EmailPreprocessor(number=False)],\n",
    "}"
   ]
  },
  {
   "cell_type": "code",
   "execution_count": 83,
   "metadata": {},
   "outputs": [],
   "source": [
    "grid_search = GridSearchCV(forest_clf_pipeline, param_grid, scoring='accuracy', return_train_score=True, verbose=3)"
   ]
  },
  {
   "cell_type": "code",
   "execution_count": 84,
   "metadata": {
    "scrolled": true
   },
   "outputs": [
    {
     "name": "stderr",
     "output_type": "stream",
     "text": [
      "/Users/willbarker/anaconda3/lib/python3.7/site-packages/sklearn/model_selection/_split.py:1978: FutureWarning: The default value of cv will change from 3 to 5 in version 0.22. Specify it explicitly to silence this warning.\n",
      "  warnings.warn(CV_WARNING, FutureWarning)\n",
      "[Parallel(n_jobs=1)]: Using backend SequentialBackend with 1 concurrent workers.\n"
     ]
    },
    {
     "name": "stdout",
     "output_type": "stream",
     "text": [
      "Fitting 3 folds for each of 10 candidates, totalling 30 fits\n",
      "[CV] prep__html_tag__html_tag_counter__binary=True, prep__text__preprocess=passthrough \n"
     ]
    },
    {
     "name": "stderr",
     "output_type": "stream",
     "text": [
      "/Users/willbarker/anaconda3/lib/python3.7/site-packages/sklearn/ensemble/forest.py:245: FutureWarning: The default value of n_estimators will change from 10 in version 0.20 to 100 in 0.22.\n",
      "  \"10 in version 0.20 to 100 in 0.22.\", FutureWarning)\n"
     ]
    },
    {
     "name": "stdout",
     "output_type": "stream",
     "text": [
      "[CV]  prep__html_tag__html_tag_counter__binary=True, prep__text__preprocess=passthrough, score=(train=0.999, test=0.973), total=  14.2s\n",
      "[CV] prep__html_tag__html_tag_counter__binary=True, prep__text__preprocess=passthrough \n"
     ]
    },
    {
     "name": "stderr",
     "output_type": "stream",
     "text": [
      "[Parallel(n_jobs=1)]: Done   1 out of   1 | elapsed:   19.4s remaining:    0.0s\n",
      "/Users/willbarker/anaconda3/lib/python3.7/site-packages/sklearn/ensemble/forest.py:245: FutureWarning: The default value of n_estimators will change from 10 in version 0.20 to 100 in 0.22.\n",
      "  \"10 in version 0.20 to 100 in 0.22.\", FutureWarning)\n"
     ]
    },
    {
     "name": "stdout",
     "output_type": "stream",
     "text": [
      "[CV]  prep__html_tag__html_tag_counter__binary=True, prep__text__preprocess=passthrough, score=(train=0.998, test=0.973), total=  12.5s\n",
      "[CV] prep__html_tag__html_tag_counter__binary=True, prep__text__preprocess=passthrough \n"
     ]
    },
    {
     "name": "stderr",
     "output_type": "stream",
     "text": [
      "[Parallel(n_jobs=1)]: Done   2 out of   2 | elapsed:   37.1s remaining:    0.0s\n",
      "/Users/willbarker/anaconda3/lib/python3.7/site-packages/sklearn/ensemble/forest.py:245: FutureWarning: The default value of n_estimators will change from 10 in version 0.20 to 100 in 0.22.\n",
      "  \"10 in version 0.20 to 100 in 0.22.\", FutureWarning)\n"
     ]
    },
    {
     "name": "stdout",
     "output_type": "stream",
     "text": [
      "[CV]  prep__html_tag__html_tag_counter__binary=True, prep__text__preprocess=passthrough, score=(train=0.999, test=0.968), total=  12.3s\n",
      "[CV] prep__html_tag__html_tag_counter__binary=True, prep__text__preprocess=EmailPreprocessor(html=True, lowercase=True, newline=True, number=True,\n",
      "                  url=True) \n"
     ]
    },
    {
     "name": "stderr",
     "output_type": "stream",
     "text": [
      "/Users/willbarker/anaconda3/lib/python3.7/site-packages/sklearn/ensemble/forest.py:245: FutureWarning: The default value of n_estimators will change from 10 in version 0.20 to 100 in 0.22.\n",
      "  \"10 in version 0.20 to 100 in 0.22.\", FutureWarning)\n"
     ]
    },
    {
     "name": "stdout",
     "output_type": "stream",
     "text": [
      "[CV]  prep__html_tag__html_tag_counter__binary=True, prep__text__preprocess=EmailPreprocessor(html=True, lowercase=True, newline=True, number=True,\n",
      "                  url=True), score=(train=0.999, test=0.971), total=  19.9s\n",
      "[CV] prep__html_tag__html_tag_counter__binary=True, prep__text__preprocess=EmailPreprocessor(html=True, lowercase=True, newline=True, number=True,\n",
      "                  url=True) \n"
     ]
    },
    {
     "name": "stderr",
     "output_type": "stream",
     "text": [
      "/Users/willbarker/anaconda3/lib/python3.7/site-packages/sklearn/ensemble/forest.py:245: FutureWarning: The default value of n_estimators will change from 10 in version 0.20 to 100 in 0.22.\n",
      "  \"10 in version 0.20 to 100 in 0.22.\", FutureWarning)\n"
     ]
    },
    {
     "name": "stdout",
     "output_type": "stream",
     "text": [
      "[CV]  prep__html_tag__html_tag_counter__binary=True, prep__text__preprocess=EmailPreprocessor(html=True, lowercase=True, newline=True, number=True,\n",
      "                  url=True), score=(train=1.000, test=0.977), total=  19.8s\n",
      "[CV] prep__html_tag__html_tag_counter__binary=True, prep__text__preprocess=EmailPreprocessor(html=True, lowercase=True, newline=True, number=True,\n",
      "                  url=True) \n"
     ]
    },
    {
     "name": "stderr",
     "output_type": "stream",
     "text": [
      "/Users/willbarker/anaconda3/lib/python3.7/site-packages/sklearn/ensemble/forest.py:245: FutureWarning: The default value of n_estimators will change from 10 in version 0.20 to 100 in 0.22.\n",
      "  \"10 in version 0.20 to 100 in 0.22.\", FutureWarning)\n"
     ]
    },
    {
     "name": "stdout",
     "output_type": "stream",
     "text": [
      "[CV]  prep__html_tag__html_tag_counter__binary=True, prep__text__preprocess=EmailPreprocessor(html=True, lowercase=True, newline=True, number=True,\n",
      "                  url=True), score=(train=0.999, test=0.974), total=  16.4s\n",
      "[CV] prep__html_tag__html_tag_counter__binary=True, prep__text__preprocess=EmailPreprocessor(html=False, lowercase=True, newline=True, number=True,\n",
      "                  url=True) \n"
     ]
    },
    {
     "name": "stderr",
     "output_type": "stream",
     "text": [
      "/Users/willbarker/anaconda3/lib/python3.7/site-packages/sklearn/ensemble/forest.py:245: FutureWarning: The default value of n_estimators will change from 10 in version 0.20 to 100 in 0.22.\n",
      "  \"10 in version 0.20 to 100 in 0.22.\", FutureWarning)\n"
     ]
    },
    {
     "name": "stdout",
     "output_type": "stream",
     "text": [
      "[CV]  prep__html_tag__html_tag_counter__binary=True, prep__text__preprocess=EmailPreprocessor(html=False, lowercase=True, newline=True, number=True,\n",
      "                  url=True), score=(train=0.999, test=0.972), total=  19.3s\n",
      "[CV] prep__html_tag__html_tag_counter__binary=True, prep__text__preprocess=EmailPreprocessor(html=False, lowercase=True, newline=True, number=True,\n",
      "                  url=True) \n"
     ]
    },
    {
     "name": "stderr",
     "output_type": "stream",
     "text": [
      "/Users/willbarker/anaconda3/lib/python3.7/site-packages/sklearn/ensemble/forest.py:245: FutureWarning: The default value of n_estimators will change from 10 in version 0.20 to 100 in 0.22.\n",
      "  \"10 in version 0.20 to 100 in 0.22.\", FutureWarning)\n"
     ]
    },
    {
     "name": "stdout",
     "output_type": "stream",
     "text": [
      "[CV]  prep__html_tag__html_tag_counter__binary=True, prep__text__preprocess=EmailPreprocessor(html=False, lowercase=True, newline=True, number=True,\n",
      "                  url=True), score=(train=0.998, test=0.978), total=  19.5s\n",
      "[CV] prep__html_tag__html_tag_counter__binary=True, prep__text__preprocess=EmailPreprocessor(html=False, lowercase=True, newline=True, number=True,\n",
      "                  url=True) \n"
     ]
    },
    {
     "name": "stderr",
     "output_type": "stream",
     "text": [
      "/Users/willbarker/anaconda3/lib/python3.7/site-packages/sklearn/ensemble/forest.py:245: FutureWarning: The default value of n_estimators will change from 10 in version 0.20 to 100 in 0.22.\n",
      "  \"10 in version 0.20 to 100 in 0.22.\", FutureWarning)\n"
     ]
    },
    {
     "name": "stdout",
     "output_type": "stream",
     "text": [
      "[CV]  prep__html_tag__html_tag_counter__binary=True, prep__text__preprocess=EmailPreprocessor(html=False, lowercase=True, newline=True, number=True,\n",
      "                  url=True), score=(train=0.999, test=0.983), total=  16.1s\n",
      "[CV] prep__html_tag__html_tag_counter__binary=True, prep__text__preprocess=EmailPreprocessor(html=True, lowercase=True, newline=True, number=True,\n",
      "                  url=False) \n"
     ]
    },
    {
     "name": "stderr",
     "output_type": "stream",
     "text": [
      "/Users/willbarker/anaconda3/lib/python3.7/site-packages/sklearn/ensemble/forest.py:245: FutureWarning: The default value of n_estimators will change from 10 in version 0.20 to 100 in 0.22.\n",
      "  \"10 in version 0.20 to 100 in 0.22.\", FutureWarning)\n"
     ]
    },
    {
     "name": "stdout",
     "output_type": "stream",
     "text": [
      "[CV]  prep__html_tag__html_tag_counter__binary=True, prep__text__preprocess=EmailPreprocessor(html=True, lowercase=True, newline=True, number=True,\n",
      "                  url=False), score=(train=0.999, test=0.977), total=  19.5s\n",
      "[CV] prep__html_tag__html_tag_counter__binary=True, prep__text__preprocess=EmailPreprocessor(html=True, lowercase=True, newline=True, number=True,\n",
      "                  url=False) \n"
     ]
    },
    {
     "name": "stderr",
     "output_type": "stream",
     "text": [
      "/Users/willbarker/anaconda3/lib/python3.7/site-packages/sklearn/ensemble/forest.py:245: FutureWarning: The default value of n_estimators will change from 10 in version 0.20 to 100 in 0.22.\n",
      "  \"10 in version 0.20 to 100 in 0.22.\", FutureWarning)\n"
     ]
    },
    {
     "name": "stdout",
     "output_type": "stream",
     "text": [
      "[CV]  prep__html_tag__html_tag_counter__binary=True, prep__text__preprocess=EmailPreprocessor(html=True, lowercase=True, newline=True, number=True,\n",
      "                  url=False), score=(train=0.998, test=0.975), total=  20.5s\n",
      "[CV] prep__html_tag__html_tag_counter__binary=True, prep__text__preprocess=EmailPreprocessor(html=True, lowercase=True, newline=True, number=True,\n",
      "                  url=False) \n"
     ]
    },
    {
     "name": "stderr",
     "output_type": "stream",
     "text": [
      "/Users/willbarker/anaconda3/lib/python3.7/site-packages/sklearn/ensemble/forest.py:245: FutureWarning: The default value of n_estimators will change from 10 in version 0.20 to 100 in 0.22.\n",
      "  \"10 in version 0.20 to 100 in 0.22.\", FutureWarning)\n"
     ]
    },
    {
     "name": "stdout",
     "output_type": "stream",
     "text": [
      "[CV]  prep__html_tag__html_tag_counter__binary=True, prep__text__preprocess=EmailPreprocessor(html=True, lowercase=True, newline=True, number=True,\n",
      "                  url=False), score=(train=0.998, test=0.976), total=  16.5s\n",
      "[CV] prep__html_tag__html_tag_counter__binary=True, prep__text__preprocess=EmailPreprocessor(html=True, lowercase=True, newline=True, number=False,\n",
      "                  url=True) \n"
     ]
    },
    {
     "name": "stderr",
     "output_type": "stream",
     "text": [
      "/Users/willbarker/anaconda3/lib/python3.7/site-packages/sklearn/ensemble/forest.py:245: FutureWarning: The default value of n_estimators will change from 10 in version 0.20 to 100 in 0.22.\n",
      "  \"10 in version 0.20 to 100 in 0.22.\", FutureWarning)\n"
     ]
    },
    {
     "name": "stdout",
     "output_type": "stream",
     "text": [
      "[CV]  prep__html_tag__html_tag_counter__binary=True, prep__text__preprocess=EmailPreprocessor(html=True, lowercase=True, newline=True, number=False,\n",
      "                  url=True), score=(train=0.999, test=0.973), total=  15.3s\n",
      "[CV] prep__html_tag__html_tag_counter__binary=True, prep__text__preprocess=EmailPreprocessor(html=True, lowercase=True, newline=True, number=False,\n",
      "                  url=True) \n"
     ]
    },
    {
     "name": "stderr",
     "output_type": "stream",
     "text": [
      "/Users/willbarker/anaconda3/lib/python3.7/site-packages/sklearn/ensemble/forest.py:245: FutureWarning: The default value of n_estimators will change from 10 in version 0.20 to 100 in 0.22.\n",
      "  \"10 in version 0.20 to 100 in 0.22.\", FutureWarning)\n"
     ]
    },
    {
     "name": "stdout",
     "output_type": "stream",
     "text": [
      "[CV]  prep__html_tag__html_tag_counter__binary=True, prep__text__preprocess=EmailPreprocessor(html=True, lowercase=True, newline=True, number=False,\n",
      "                  url=True), score=(train=0.998, test=0.971), total=  15.0s\n",
      "[CV] prep__html_tag__html_tag_counter__binary=True, prep__text__preprocess=EmailPreprocessor(html=True, lowercase=True, newline=True, number=False,\n",
      "                  url=True) \n"
     ]
    },
    {
     "name": "stderr",
     "output_type": "stream",
     "text": [
      "/Users/willbarker/anaconda3/lib/python3.7/site-packages/sklearn/ensemble/forest.py:245: FutureWarning: The default value of n_estimators will change from 10 in version 0.20 to 100 in 0.22.\n",
      "  \"10 in version 0.20 to 100 in 0.22.\", FutureWarning)\n"
     ]
    },
    {
     "name": "stdout",
     "output_type": "stream",
     "text": [
      "[CV]  prep__html_tag__html_tag_counter__binary=True, prep__text__preprocess=EmailPreprocessor(html=True, lowercase=True, newline=True, number=False,\n",
      "                  url=True), score=(train=0.999, test=0.975), total=  14.6s\n",
      "[CV] prep__html_tag__html_tag_counter__binary=False, prep__text__preprocess=passthrough \n"
     ]
    },
    {
     "name": "stderr",
     "output_type": "stream",
     "text": [
      "/Users/willbarker/anaconda3/lib/python3.7/site-packages/sklearn/ensemble/forest.py:245: FutureWarning: The default value of n_estimators will change from 10 in version 0.20 to 100 in 0.22.\n",
      "  \"10 in version 0.20 to 100 in 0.22.\", FutureWarning)\n"
     ]
    },
    {
     "name": "stdout",
     "output_type": "stream",
     "text": [
      "[CV]  prep__html_tag__html_tag_counter__binary=False, prep__text__preprocess=passthrough, score=(train=0.999, test=0.969), total=  12.7s\n",
      "[CV] prep__html_tag__html_tag_counter__binary=False, prep__text__preprocess=passthrough \n"
     ]
    },
    {
     "name": "stderr",
     "output_type": "stream",
     "text": [
      "/Users/willbarker/anaconda3/lib/python3.7/site-packages/sklearn/ensemble/forest.py:245: FutureWarning: The default value of n_estimators will change from 10 in version 0.20 to 100 in 0.22.\n",
      "  \"10 in version 0.20 to 100 in 0.22.\", FutureWarning)\n"
     ]
    },
    {
     "name": "stdout",
     "output_type": "stream",
     "text": [
      "[CV]  prep__html_tag__html_tag_counter__binary=False, prep__text__preprocess=passthrough, score=(train=1.000, test=0.976), total=  13.0s\n",
      "[CV] prep__html_tag__html_tag_counter__binary=False, prep__text__preprocess=passthrough \n"
     ]
    },
    {
     "name": "stderr",
     "output_type": "stream",
     "text": [
      "/Users/willbarker/anaconda3/lib/python3.7/site-packages/sklearn/ensemble/forest.py:245: FutureWarning: The default value of n_estimators will change from 10 in version 0.20 to 100 in 0.22.\n",
      "  \"10 in version 0.20 to 100 in 0.22.\", FutureWarning)\n"
     ]
    },
    {
     "name": "stdout",
     "output_type": "stream",
     "text": [
      "[CV]  prep__html_tag__html_tag_counter__binary=False, prep__text__preprocess=passthrough, score=(train=0.998, test=0.979), total=  12.3s\n",
      "[CV] prep__html_tag__html_tag_counter__binary=False, prep__text__preprocess=EmailPreprocessor(html=True, lowercase=True, newline=True, number=True,\n",
      "                  url=True) \n"
     ]
    },
    {
     "name": "stderr",
     "output_type": "stream",
     "text": [
      "/Users/willbarker/anaconda3/lib/python3.7/site-packages/sklearn/ensemble/forest.py:245: FutureWarning: The default value of n_estimators will change from 10 in version 0.20 to 100 in 0.22.\n",
      "  \"10 in version 0.20 to 100 in 0.22.\", FutureWarning)\n"
     ]
    },
    {
     "name": "stdout",
     "output_type": "stream",
     "text": [
      "[CV]  prep__html_tag__html_tag_counter__binary=False, prep__text__preprocess=EmailPreprocessor(html=True, lowercase=True, newline=True, number=True,\n",
      "                  url=True), score=(train=0.998, test=0.973), total=  19.1s\n",
      "[CV] prep__html_tag__html_tag_counter__binary=False, prep__text__preprocess=EmailPreprocessor(html=True, lowercase=True, newline=True, number=True,\n",
      "                  url=True) \n"
     ]
    },
    {
     "name": "stderr",
     "output_type": "stream",
     "text": [
      "/Users/willbarker/anaconda3/lib/python3.7/site-packages/sklearn/ensemble/forest.py:245: FutureWarning: The default value of n_estimators will change from 10 in version 0.20 to 100 in 0.22.\n",
      "  \"10 in version 0.20 to 100 in 0.22.\", FutureWarning)\n"
     ]
    },
    {
     "name": "stdout",
     "output_type": "stream",
     "text": [
      "[CV]  prep__html_tag__html_tag_counter__binary=False, prep__text__preprocess=EmailPreprocessor(html=True, lowercase=True, newline=True, number=True,\n",
      "                  url=True), score=(train=0.999, test=0.969), total=  20.5s\n",
      "[CV] prep__html_tag__html_tag_counter__binary=False, prep__text__preprocess=EmailPreprocessor(html=True, lowercase=True, newline=True, number=True,\n",
      "                  url=True) \n"
     ]
    },
    {
     "name": "stderr",
     "output_type": "stream",
     "text": [
      "/Users/willbarker/anaconda3/lib/python3.7/site-packages/sklearn/ensemble/forest.py:245: FutureWarning: The default value of n_estimators will change from 10 in version 0.20 to 100 in 0.22.\n",
      "  \"10 in version 0.20 to 100 in 0.22.\", FutureWarning)\n"
     ]
    },
    {
     "name": "stdout",
     "output_type": "stream",
     "text": [
      "[CV]  prep__html_tag__html_tag_counter__binary=False, prep__text__preprocess=EmailPreprocessor(html=True, lowercase=True, newline=True, number=True,\n",
      "                  url=True), score=(train=0.999, test=0.977), total=  16.7s\n",
      "[CV] prep__html_tag__html_tag_counter__binary=False, prep__text__preprocess=EmailPreprocessor(html=False, lowercase=True, newline=True, number=True,\n",
      "                  url=True) \n"
     ]
    },
    {
     "name": "stderr",
     "output_type": "stream",
     "text": [
      "/Users/willbarker/anaconda3/lib/python3.7/site-packages/sklearn/ensemble/forest.py:245: FutureWarning: The default value of n_estimators will change from 10 in version 0.20 to 100 in 0.22.\n",
      "  \"10 in version 0.20 to 100 in 0.22.\", FutureWarning)\n"
     ]
    },
    {
     "name": "stdout",
     "output_type": "stream",
     "text": [
      "[CV]  prep__html_tag__html_tag_counter__binary=False, prep__text__preprocess=EmailPreprocessor(html=False, lowercase=True, newline=True, number=True,\n",
      "                  url=True), score=(train=0.998, test=0.973), total=  20.1s\n",
      "[CV] prep__html_tag__html_tag_counter__binary=False, prep__text__preprocess=EmailPreprocessor(html=False, lowercase=True, newline=True, number=True,\n",
      "                  url=True) \n"
     ]
    },
    {
     "name": "stderr",
     "output_type": "stream",
     "text": [
      "/Users/willbarker/anaconda3/lib/python3.7/site-packages/sklearn/ensemble/forest.py:245: FutureWarning: The default value of n_estimators will change from 10 in version 0.20 to 100 in 0.22.\n",
      "  \"10 in version 0.20 to 100 in 0.22.\", FutureWarning)\n"
     ]
    },
    {
     "name": "stdout",
     "output_type": "stream",
     "text": [
      "[CV]  prep__html_tag__html_tag_counter__binary=False, prep__text__preprocess=EmailPreprocessor(html=False, lowercase=True, newline=True, number=True,\n",
      "                  url=True), score=(train=0.998, test=0.971), total=  19.5s\n",
      "[CV] prep__html_tag__html_tag_counter__binary=False, prep__text__preprocess=EmailPreprocessor(html=False, lowercase=True, newline=True, number=True,\n",
      "                  url=True) \n"
     ]
    },
    {
     "name": "stderr",
     "output_type": "stream",
     "text": [
      "/Users/willbarker/anaconda3/lib/python3.7/site-packages/sklearn/ensemble/forest.py:245: FutureWarning: The default value of n_estimators will change from 10 in version 0.20 to 100 in 0.22.\n",
      "  \"10 in version 0.20 to 100 in 0.22.\", FutureWarning)\n"
     ]
    },
    {
     "name": "stdout",
     "output_type": "stream",
     "text": [
      "[CV]  prep__html_tag__html_tag_counter__binary=False, prep__text__preprocess=EmailPreprocessor(html=False, lowercase=True, newline=True, number=True,\n",
      "                  url=True), score=(train=0.999, test=0.978), total=  15.9s\n",
      "[CV] prep__html_tag__html_tag_counter__binary=False, prep__text__preprocess=EmailPreprocessor(html=True, lowercase=True, newline=True, number=True,\n",
      "                  url=False) \n"
     ]
    },
    {
     "name": "stderr",
     "output_type": "stream",
     "text": [
      "/Users/willbarker/anaconda3/lib/python3.7/site-packages/sklearn/ensemble/forest.py:245: FutureWarning: The default value of n_estimators will change from 10 in version 0.20 to 100 in 0.22.\n",
      "  \"10 in version 0.20 to 100 in 0.22.\", FutureWarning)\n"
     ]
    },
    {
     "name": "stdout",
     "output_type": "stream",
     "text": [
      "[CV]  prep__html_tag__html_tag_counter__binary=False, prep__text__preprocess=EmailPreprocessor(html=True, lowercase=True, newline=True, number=True,\n",
      "                  url=False), score=(train=0.999, test=0.977), total=  19.7s\n",
      "[CV] prep__html_tag__html_tag_counter__binary=False, prep__text__preprocess=EmailPreprocessor(html=True, lowercase=True, newline=True, number=True,\n",
      "                  url=False) \n"
     ]
    },
    {
     "name": "stderr",
     "output_type": "stream",
     "text": [
      "/Users/willbarker/anaconda3/lib/python3.7/site-packages/sklearn/ensemble/forest.py:245: FutureWarning: The default value of n_estimators will change from 10 in version 0.20 to 100 in 0.22.\n",
      "  \"10 in version 0.20 to 100 in 0.22.\", FutureWarning)\n"
     ]
    },
    {
     "name": "stdout",
     "output_type": "stream",
     "text": [
      "[CV]  prep__html_tag__html_tag_counter__binary=False, prep__text__preprocess=EmailPreprocessor(html=True, lowercase=True, newline=True, number=True,\n",
      "                  url=False), score=(train=0.998, test=0.977), total=  19.9s\n",
      "[CV] prep__html_tag__html_tag_counter__binary=False, prep__text__preprocess=EmailPreprocessor(html=True, lowercase=True, newline=True, number=True,\n",
      "                  url=False) \n"
     ]
    },
    {
     "name": "stderr",
     "output_type": "stream",
     "text": [
      "/Users/willbarker/anaconda3/lib/python3.7/site-packages/sklearn/ensemble/forest.py:245: FutureWarning: The default value of n_estimators will change from 10 in version 0.20 to 100 in 0.22.\n",
      "  \"10 in version 0.20 to 100 in 0.22.\", FutureWarning)\n"
     ]
    },
    {
     "name": "stdout",
     "output_type": "stream",
     "text": [
      "[CV]  prep__html_tag__html_tag_counter__binary=False, prep__text__preprocess=EmailPreprocessor(html=True, lowercase=True, newline=True, number=True,\n",
      "                  url=False), score=(train=0.999, test=0.979), total=  17.2s\n",
      "[CV] prep__html_tag__html_tag_counter__binary=False, prep__text__preprocess=EmailPreprocessor(html=True, lowercase=True, newline=True, number=False,\n",
      "                  url=True) \n"
     ]
    },
    {
     "name": "stderr",
     "output_type": "stream",
     "text": [
      "/Users/willbarker/anaconda3/lib/python3.7/site-packages/sklearn/ensemble/forest.py:245: FutureWarning: The default value of n_estimators will change from 10 in version 0.20 to 100 in 0.22.\n",
      "  \"10 in version 0.20 to 100 in 0.22.\", FutureWarning)\n"
     ]
    },
    {
     "name": "stdout",
     "output_type": "stream",
     "text": [
      "[CV]  prep__html_tag__html_tag_counter__binary=False, prep__text__preprocess=EmailPreprocessor(html=True, lowercase=True, newline=True, number=False,\n",
      "                  url=True), score=(train=0.999, test=0.973), total=  15.3s\n",
      "[CV] prep__html_tag__html_tag_counter__binary=False, prep__text__preprocess=EmailPreprocessor(html=True, lowercase=True, newline=True, number=False,\n",
      "                  url=True) \n"
     ]
    },
    {
     "name": "stderr",
     "output_type": "stream",
     "text": [
      "/Users/willbarker/anaconda3/lib/python3.7/site-packages/sklearn/ensemble/forest.py:245: FutureWarning: The default value of n_estimators will change from 10 in version 0.20 to 100 in 0.22.\n",
      "  \"10 in version 0.20 to 100 in 0.22.\", FutureWarning)\n"
     ]
    },
    {
     "name": "stdout",
     "output_type": "stream",
     "text": [
      "[CV]  prep__html_tag__html_tag_counter__binary=False, prep__text__preprocess=EmailPreprocessor(html=True, lowercase=True, newline=True, number=False,\n",
      "                  url=True), score=(train=0.999, test=0.973), total=  15.0s\n",
      "[CV] prep__html_tag__html_tag_counter__binary=False, prep__text__preprocess=EmailPreprocessor(html=True, lowercase=True, newline=True, number=False,\n",
      "                  url=True) \n"
     ]
    },
    {
     "name": "stderr",
     "output_type": "stream",
     "text": [
      "/Users/willbarker/anaconda3/lib/python3.7/site-packages/sklearn/ensemble/forest.py:245: FutureWarning: The default value of n_estimators will change from 10 in version 0.20 to 100 in 0.22.\n",
      "  \"10 in version 0.20 to 100 in 0.22.\", FutureWarning)\n"
     ]
    },
    {
     "name": "stdout",
     "output_type": "stream",
     "text": [
      "[CV]  prep__html_tag__html_tag_counter__binary=False, prep__text__preprocess=EmailPreprocessor(html=True, lowercase=True, newline=True, number=False,\n",
      "                  url=True), score=(train=0.999, test=0.973), total=  14.7s\n"
     ]
    },
    {
     "name": "stderr",
     "output_type": "stream",
     "text": [
      "[Parallel(n_jobs=1)]: Done  30 out of  30 | elapsed: 12.7min finished\n",
      "/Users/willbarker/anaconda3/lib/python3.7/site-packages/sklearn/ensemble/forest.py:245: FutureWarning: The default value of n_estimators will change from 10 in version 0.20 to 100 in 0.22.\n",
      "  \"10 in version 0.20 to 100 in 0.22.\", FutureWarning)\n"
     ]
    },
    {
     "data": {
      "text/plain": [
       "GridSearchCV(cv='warn', error_score='raise-deprecating',\n",
       "             estimator=Pipeline(memory=None,\n",
       "                                steps=[('prep',\n",
       "                                        FeatureUnion(n_jobs=None,\n",
       "                                                     transformer_list=[('text',\n",
       "                                                                        Pipeline(memory=None,\n",
       "                                                                                 steps=[('preprocess',\n",
       "                                                                                         EmailPreprocessor(html=True,\n",
       "                                                                                                           lowercase=True,\n",
       "                                                                                                           newline=True,\n",
       "                                                                                                           number=True,\n",
       "                                                                                                           url=True)),\n",
       "                                                                                        ('vect',\n",
       "                                                                                         CountVectorizer(analyzer='word',\n",
       "                                                                                                         binary=False,\n",
       "                                                                                                         decode_error='strict',\n",
       "                                                                                                         dt...\n",
       "                                                                      newline=True,\n",
       "                                                                      number=True,\n",
       "                                                                      url=True),\n",
       "                                                    EmailPreprocessor(html=False,\n",
       "                                                                      lowercase=True,\n",
       "                                                                      newline=True,\n",
       "                                                                      number=True,\n",
       "                                                                      url=True),\n",
       "                                                    EmailPreprocessor(html=True,\n",
       "                                                                      lowercase=True,\n",
       "                                                                      newline=True,\n",
       "                                                                      number=True,\n",
       "                                                                      url=False),\n",
       "                                                    EmailPreprocessor(html=True,\n",
       "                                                                      lowercase=True,\n",
       "                                                                      newline=True,\n",
       "                                                                      number=False,\n",
       "                                                                      url=True)]},\n",
       "             pre_dispatch='2*n_jobs', refit=True, return_train_score=True,\n",
       "             scoring='accuracy', verbose=3)"
      ]
     },
     "execution_count": 84,
     "metadata": {},
     "output_type": "execute_result"
    }
   ],
   "source": [
    "grid_search.fit(X_train, y_train)"
   ]
  },
  {
   "cell_type": "code",
   "execution_count": 85,
   "metadata": {},
   "outputs": [
    {
     "data": {
      "text/plain": [
       "{'prep__html_tag__html_tag_counter__binary': True,\n",
       " 'prep__text__preprocess': EmailPreprocessor(html=False, lowercase=True, newline=True, number=True,\n",
       "                   url=True)}"
      ]
     },
     "execution_count": 85,
     "metadata": {},
     "output_type": "execute_result"
    }
   ],
   "source": [
    "grid_search.best_params_"
   ]
  },
  {
   "cell_type": "code",
   "execution_count": 86,
   "metadata": {},
   "outputs": [
    {
     "data": {
      "text/plain": [
       "0.9776669557675629"
      ]
     },
     "execution_count": 86,
     "metadata": {},
     "output_type": "execute_result"
    }
   ],
   "source": [
    "grid_search.best_score_"
   ]
  },
  {
   "cell_type": "code",
   "execution_count": 92,
   "metadata": {},
   "outputs": [],
   "source": [
    "best_prep_pipeline = grid_search.best_estimator_"
   ]
  },
  {
   "cell_type": "code",
   "execution_count": 93,
   "metadata": {},
   "outputs": [
    {
     "data": {
      "text/plain": [
       "Pipeline(memory=None,\n",
       "         steps=[('prep',\n",
       "                 FeatureUnion(n_jobs=None,\n",
       "                              transformer_list=[('text',\n",
       "                                                 Pipeline(memory=None,\n",
       "                                                          steps=[('preprocess',\n",
       "                                                                  EmailPreprocessor(html=False,\n",
       "                                                                                    lowercase=True,\n",
       "                                                                                    newline=True,\n",
       "                                                                                    number=True,\n",
       "                                                                                    url=True)),\n",
       "                                                                 ('vect',\n",
       "                                                                  CountVectorizer(analyzer='word',\n",
       "                                                                                  binary=False,\n",
       "                                                                                  decode_error='strict',\n",
       "                                                                                  dtype=<class 'numpy.int64'>,\n",
       "                                                                                  encoding='utf-8',\n",
       "                                                                                  input='content',\n",
       "                                                                                  lowerc...\n",
       "                 RandomForestClassifier(bootstrap=True, class_weight=None,\n",
       "                                        criterion='gini', max_depth=None,\n",
       "                                        max_features='auto',\n",
       "                                        max_leaf_nodes=None,\n",
       "                                        min_impurity_decrease=0.0,\n",
       "                                        min_impurity_split=None,\n",
       "                                        min_samples_leaf=1, min_samples_split=2,\n",
       "                                        min_weight_fraction_leaf=0.0,\n",
       "                                        n_estimators=10, n_jobs=None,\n",
       "                                        oob_score=False, random_state=None,\n",
       "                                        verbose=0, warm_start=False))],\n",
       "         verbose=False)"
      ]
     },
     "execution_count": 93,
     "metadata": {},
     "output_type": "execute_result"
    }
   ],
   "source": [
    "best_prep_pipeline"
   ]
  },
  {
   "cell_type": "code",
   "execution_count": 94,
   "metadata": {},
   "outputs": [],
   "source": [
    "clf_param_grid = {\n",
    "    'clf__n_estimators': [10, 50, 100]\n",
    "}"
   ]
  },
  {
   "cell_type": "code",
   "execution_count": 95,
   "metadata": {},
   "outputs": [],
   "source": [
    "clf_grid_search = GridSearchCV(best_prep_pipeline, clf_param_grid,\n",
    "                               scoring='accuracy', return_train_score=True, verbose=3)"
   ]
  },
  {
   "cell_type": "code",
   "execution_count": 96,
   "metadata": {},
   "outputs": [
    {
     "name": "stderr",
     "output_type": "stream",
     "text": [
      "/Users/willbarker/anaconda3/lib/python3.7/site-packages/sklearn/model_selection/_split.py:1978: FutureWarning: The default value of cv will change from 3 to 5 in version 0.22. Specify it explicitly to silence this warning.\n",
      "  warnings.warn(CV_WARNING, FutureWarning)\n",
      "[Parallel(n_jobs=1)]: Using backend SequentialBackend with 1 concurrent workers.\n"
     ]
    },
    {
     "name": "stdout",
     "output_type": "stream",
     "text": [
      "Fitting 3 folds for each of 3 candidates, totalling 9 fits\n",
      "[CV] clf__n_estimators=10 ............................................\n",
      "[CV]  clf__n_estimators=10, score=(train=0.999, test=0.979), total=  19.0s\n",
      "[CV] clf__n_estimators=10 ............................................\n"
     ]
    },
    {
     "name": "stderr",
     "output_type": "stream",
     "text": [
      "[Parallel(n_jobs=1)]: Done   1 out of   1 | elapsed:   30.5s remaining:    0.0s\n"
     ]
    },
    {
     "name": "stdout",
     "output_type": "stream",
     "text": [
      "[CV]  clf__n_estimators=10, score=(train=0.999, test=0.978), total=  19.7s\n",
      "[CV] clf__n_estimators=10 ............................................\n"
     ]
    },
    {
     "name": "stderr",
     "output_type": "stream",
     "text": [
      "[Parallel(n_jobs=1)]: Done   2 out of   2 | elapsed:  1.0min remaining:    0.0s\n"
     ]
    },
    {
     "name": "stdout",
     "output_type": "stream",
     "text": [
      "[CV]  clf__n_estimators=10, score=(train=0.999, test=0.975), total=  16.2s\n",
      "[CV] clf__n_estimators=50 ............................................\n",
      "[CV]  clf__n_estimators=50, score=(train=1.000, test=0.981), total=  19.9s\n",
      "[CV] clf__n_estimators=50 ............................................\n",
      "[CV]  clf__n_estimators=50, score=(train=1.000, test=0.984), total=  20.0s\n",
      "[CV] clf__n_estimators=50 ............................................\n",
      "[CV]  clf__n_estimators=50, score=(train=1.000, test=0.985), total=  16.7s\n",
      "[CV] clf__n_estimators=100 ...........................................\n",
      "[CV]  clf__n_estimators=100, score=(train=1.000, test=0.981), total=  20.5s\n",
      "[CV] clf__n_estimators=100 ...........................................\n",
      "[CV]  clf__n_estimators=100, score=(train=1.000, test=0.985), total=  20.8s\n",
      "[CV] clf__n_estimators=100 ...........................................\n",
      "[CV]  clf__n_estimators=100, score=(train=1.000, test=0.984), total=  17.0s\n"
     ]
    },
    {
     "name": "stderr",
     "output_type": "stream",
     "text": [
      "[Parallel(n_jobs=1)]: Done   9 out of   9 | elapsed:  4.3min finished\n"
     ]
    },
    {
     "data": {
      "text/plain": [
       "GridSearchCV(cv='warn', error_score='raise-deprecating',\n",
       "             estimator=Pipeline(memory=None,\n",
       "                                steps=[('prep',\n",
       "                                        FeatureUnion(n_jobs=None,\n",
       "                                                     transformer_list=[('text',\n",
       "                                                                        Pipeline(memory=None,\n",
       "                                                                                 steps=[('preprocess',\n",
       "                                                                                         EmailPreprocessor(html=False,\n",
       "                                                                                                           lowercase=True,\n",
       "                                                                                                           newline=True,\n",
       "                                                                                                           number=True,\n",
       "                                                                                                           url=True)),\n",
       "                                                                                        ('vect',\n",
       "                                                                                         CountVectorizer(analyzer='word',\n",
       "                                                                                                         binary=False,\n",
       "                                                                                                         decode_error='strict',\n",
       "                                                                                                         d...\n",
       "                                                               min_impurity_split=None,\n",
       "                                                               min_samples_leaf=1,\n",
       "                                                               min_samples_split=2,\n",
       "                                                               min_weight_fraction_leaf=0.0,\n",
       "                                                               n_estimators=10,\n",
       "                                                               n_jobs=None,\n",
       "                                                               oob_score=False,\n",
       "                                                               random_state=None,\n",
       "                                                               verbose=0,\n",
       "                                                               warm_start=False))],\n",
       "                                verbose=False),\n",
       "             iid='warn', n_jobs=None,\n",
       "             param_grid={'clf__n_estimators': [10, 50, 100]},\n",
       "             pre_dispatch='2*n_jobs', refit=True, return_train_score=True,\n",
       "             scoring='accuracy', verbose=3)"
      ]
     },
     "execution_count": 96,
     "metadata": {},
     "output_type": "execute_result"
    }
   ],
   "source": [
    "clf_grid_search.fit(X_train, y_train)"
   ]
  },
  {
   "cell_type": "code",
   "execution_count": 98,
   "metadata": {},
   "outputs": [
    {
     "data": {
      "text/plain": [
       "{'clf__n_estimators': 50}"
      ]
     },
     "execution_count": 98,
     "metadata": {},
     "output_type": "execute_result"
    }
   ],
   "source": [
    "clf_grid_search.best_params_"
   ]
  },
  {
   "cell_type": "code",
   "execution_count": 100,
   "metadata": {},
   "outputs": [
    {
     "data": {
      "text/plain": [
       "0.9835212489158717"
      ]
     },
     "execution_count": 100,
     "metadata": {},
     "output_type": "execute_result"
    }
   ],
   "source": [
    "clf_grid_search.best_score_"
   ]
  },
  {
   "cell_type": "code",
   "execution_count": 101,
   "metadata": {},
   "outputs": [],
   "source": [
    "best_clf = clf_grid_search.best_estimator_"
   ]
  },
  {
   "cell_type": "code",
   "execution_count": 102,
   "metadata": {},
   "outputs": [
    {
     "data": {
      "text/plain": [
       "Pipeline(memory=None,\n",
       "         steps=[('prep',\n",
       "                 FeatureUnion(n_jobs=None,\n",
       "                              transformer_list=[('text',\n",
       "                                                 Pipeline(memory=None,\n",
       "                                                          steps=[('preprocess',\n",
       "                                                                  EmailPreprocessor(html=False,\n",
       "                                                                                    lowercase=True,\n",
       "                                                                                    newline=True,\n",
       "                                                                                    number=True,\n",
       "                                                                                    url=True)),\n",
       "                                                                 ('vect',\n",
       "                                                                  CountVectorizer(analyzer='word',\n",
       "                                                                                  binary=False,\n",
       "                                                                                  decode_error='strict',\n",
       "                                                                                  dtype=<class 'numpy.int64'>,\n",
       "                                                                                  encoding='utf-8',\n",
       "                                                                                  input='content',\n",
       "                                                                                  lowerc...\n",
       "                 RandomForestClassifier(bootstrap=True, class_weight=None,\n",
       "                                        criterion='gini', max_depth=None,\n",
       "                                        max_features='auto',\n",
       "                                        max_leaf_nodes=None,\n",
       "                                        min_impurity_decrease=0.0,\n",
       "                                        min_impurity_split=None,\n",
       "                                        min_samples_leaf=1, min_samples_split=2,\n",
       "                                        min_weight_fraction_leaf=0.0,\n",
       "                                        n_estimators=50, n_jobs=None,\n",
       "                                        oob_score=False, random_state=None,\n",
       "                                        verbose=0, warm_start=False))],\n",
       "         verbose=False)"
      ]
     },
     "execution_count": 102,
     "metadata": {},
     "output_type": "execute_result"
    }
   ],
   "source": [
    "best_clf"
   ]
  },
  {
   "cell_type": "markdown",
   "metadata": {},
   "source": [
    "### Predict on Test Set"
   ]
  },
  {
   "cell_type": "code",
   "execution_count": 103,
   "metadata": {},
   "outputs": [],
   "source": [
    "y_test_pred = best_clf.predict(X_test)"
   ]
  },
  {
   "cell_type": "code",
   "execution_count": 104,
   "metadata": {},
   "outputs": [
    {
     "name": "stdout",
     "output_type": "stream",
     "text": [
      "              precision    recall  f1-score   support\n",
      "\n",
      "         ham       0.99      1.00      1.00      1169\n",
      "        spam       1.00      0.98      0.99       380\n",
      "\n",
      "    accuracy                           0.99      1549\n",
      "   macro avg       1.00      0.99      0.99      1549\n",
      "weighted avg       0.99      0.99      0.99      1549\n",
      "\n"
     ]
    }
   ],
   "source": [
    "print(classification_report(y_test, y_test_pred))"
   ]
  },
  {
   "cell_type": "markdown",
   "metadata": {},
   "source": [
    "### What would the test score have been if I did no preprocessing/tuning?"
   ]
  },
  {
   "cell_type": "code",
   "execution_count": 106,
   "metadata": {},
   "outputs": [],
   "source": [
    "simple_pipeline = Pipeline([\n",
    "    ('vect', CountVectorizer()),\n",
    "    ('tfidf', TfidfTransformer()),\n",
    "    ('forest_clf', RandomForestClassifier())\n",
    "])"
   ]
  },
  {
   "cell_type": "code",
   "execution_count": 107,
   "metadata": {},
   "outputs": [
    {
     "name": "stderr",
     "output_type": "stream",
     "text": [
      "/Users/willbarker/anaconda3/lib/python3.7/site-packages/sklearn/ensemble/forest.py:245: FutureWarning: The default value of n_estimators will change from 10 in version 0.20 to 100 in 0.22.\n",
      "  \"10 in version 0.20 to 100 in 0.22.\", FutureWarning)\n"
     ]
    },
    {
     "data": {
      "text/plain": [
       "Pipeline(memory=None,\n",
       "         steps=[('vect',\n",
       "                 CountVectorizer(analyzer='word', binary=False,\n",
       "                                 decode_error='strict',\n",
       "                                 dtype=<class 'numpy.int64'>, encoding='utf-8',\n",
       "                                 input='content', lowercase=True, max_df=1.0,\n",
       "                                 max_features=None, min_df=1,\n",
       "                                 ngram_range=(1, 1), preprocessor=None,\n",
       "                                 stop_words=None, strip_accents=None,\n",
       "                                 token_pattern='(?u)\\\\b\\\\w\\\\w+\\\\b',\n",
       "                                 tokenizer=None, vocabulary=Non...\n",
       "                 RandomForestClassifier(bootstrap=True, class_weight=None,\n",
       "                                        criterion='gini', max_depth=None,\n",
       "                                        max_features='auto',\n",
       "                                        max_leaf_nodes=None,\n",
       "                                        min_impurity_decrease=0.0,\n",
       "                                        min_impurity_split=None,\n",
       "                                        min_samples_leaf=1, min_samples_split=2,\n",
       "                                        min_weight_fraction_leaf=0.0,\n",
       "                                        n_estimators=10, n_jobs=None,\n",
       "                                        oob_score=False, random_state=None,\n",
       "                                        verbose=0, warm_start=False))],\n",
       "         verbose=False)"
      ]
     },
     "execution_count": 107,
     "metadata": {},
     "output_type": "execute_result"
    }
   ],
   "source": [
    "simple_pipeline.fit(X_train, y_train)"
   ]
  },
  {
   "cell_type": "code",
   "execution_count": 108,
   "metadata": {},
   "outputs": [],
   "source": [
    "y_test_pred_simple = simple_pipeline.predict(X_test)"
   ]
  },
  {
   "cell_type": "code",
   "execution_count": 109,
   "metadata": {},
   "outputs": [
    {
     "name": "stdout",
     "output_type": "stream",
     "text": [
      "              precision    recall  f1-score   support\n",
      "\n",
      "         ham       0.99      1.00      1.00      1169\n",
      "        spam       1.00      0.98      0.99       380\n",
      "\n",
      "    accuracy                           0.99      1549\n",
      "   macro avg       0.99      0.99      0.99      1549\n",
      "weighted avg       0.99      0.99      0.99      1549\n",
      "\n"
     ]
    }
   ],
   "source": [
    "print(classification_report(y_test, y_test_pred_simple))"
   ]
  }
 ],
 "metadata": {
  "environment": {
   "name": "tf2-gpu.2-1.m55",
   "type": "gcloud",
   "uri": "gcr.io/deeplearning-platform-release/tf2-gpu.2-1:m55"
  },
  "kernelspec": {
   "display_name": "Python 3",
   "language": "python",
   "name": "python3"
  },
  "language_info": {
   "codemirror_mode": {
    "name": "ipython",
    "version": 3
   },
   "file_extension": ".py",
   "mimetype": "text/x-python",
   "name": "python",
   "nbconvert_exporter": "python",
   "pygments_lexer": "ipython3",
   "version": "3.7.4"
  }
 },
 "nbformat": 4,
 "nbformat_minor": 4
}
